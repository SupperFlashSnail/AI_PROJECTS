{
 "cells": [
  {
   "cell_type": "markdown",
   "metadata": {},
   "source": [
    "## 深度学习\n",
    "\n",
    "机器学习流程：\n",
    "1. 数据获取\n",
    "2. 特征工程\n",
    "3. 建立模型\n",
    "4. 评估和应用\n",
    "\n",
    "<img src=\"深度学习流程.png\" style='zoom:60%;float:left'>\n",
    "\n",
    "\n",
    "深度学习能够自动提取合适的特征，然后根据提取的特征计算得分值，最终用于回归或者分类的任务。\n"
   ]
  },
  {
   "cell_type": "markdown",
   "metadata": {},
   "source": [
    "### 深度学习必备基础知识\n",
    "\n",
    "1. 得分函数\n",
    "2. 损失函数的作用\n",
    "3. 前向传播整体流程\n",
    "4. 梯度下降\n",
    "5. 参数更新\n",
    "6. 参数优化\n",
    "7. 反向传播计算方法"
   ]
  },
  {
   "cell_type": "markdown",
   "metadata": {},
   "source": [
    "### 1. 得分值&&损失函数\n",
    "```\n",
    "得分值：f(w,X)+b\n",
    "\n",
    "损失值：将得分值通过交叉熵计算得到每一个种类的概率值，然后根据当前类别标签计算出损失值，最后再加上正则化惩罚项\n",
    "```\n",
    "<img src=\"得分值计算.png\" style='zoom:60%;float:left'>"
   ]
  },
  {
   "cell_type": "markdown",
   "metadata": {},
   "source": [
    "### 2.前向传播\n",
    "\n",
    "```\n",
    "前向传播计算损失值流程：\n",
    "```\n",
    "<img src=\"前向传播.png\" style='zoom:60%;float:left'>"
   ]
  },
  {
   "cell_type": "markdown",
   "metadata": {},
   "source": [
    "### 3.反向传播\n",
    "\n",
    "```\n",
    "反向传播计算参数更新梯度，然后乘以学习率后获取超参数权重更新值\n",
    "```"
   ]
  },
  {
   "cell_type": "code",
   "execution_count": null,
   "metadata": {},
   "outputs": [],
   "source": []
  }
 ],
 "metadata": {
  "kernelspec": {
   "display_name": "Python 3",
   "language": "python",
   "name": "python3"
  },
  "language_info": {
   "codemirror_mode": {
    "name": "ipython",
    "version": 3
   },
   "file_extension": ".py",
   "mimetype": "text/x-python",
   "name": "python",
   "nbconvert_exporter": "python",
   "pygments_lexer": "ipython3",
   "version": "3.7.3"
  }
 },
 "nbformat": 4,
 "nbformat_minor": 2
}
