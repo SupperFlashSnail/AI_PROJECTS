{
 "cells": [
  {
   "cell_type": "code",
   "execution_count": 2,
   "metadata": {},
   "outputs": [
    {
     "name": "stdout",
     "output_type": "stream",
     "text": [
      "Extracting data/train-images-idx3-ubyte.gz\n",
      "Extracting data/train-labels-idx1-ubyte.gz\n",
      "Extracting data/t10k-images-idx3-ubyte.gz\n",
      "Extracting data/t10k-labels-idx1-ubyte.gz\n"
     ]
    }
   ],
   "source": [
    "import tensorflow as tf\n",
    "import warnings\n",
    "warnings.filterwarnings('ignore')\n",
    "from tensorflow.examples.tutorials.mnist import input_data\n",
    "mnist = input_data.read_data_sets(\"data/\", one_hot=True)"
   ]
  },
  {
   "cell_type": "markdown",
   "metadata": {},
   "source": [
    "<img src=\"./img/4.png\" alt=\"FAO\" width=\"790\">"
   ]
  },
  {
   "cell_type": "markdown",
   "metadata": {},
   "source": [
    "单层神经网络"
   ]
  },
  {
   "cell_type": "markdown",
   "metadata": {},
   "source": [
    "<img src=\"./img/5.png\" alt=\"FAO\" width=\"790\">"
   ]
  },
  {
   "cell_type": "markdown",
   "metadata": {},
   "source": [
    "## Tensorflow实现多层神经网路"
   ]
  },
  {
   "cell_type": "code",
   "execution_count": 5,
   "metadata": {},
   "outputs": [],
   "source": [
    "inputSize = 784\n",
    "numClasses = 10\n",
    "X = tf.placeholder(tf.float32, shape = [None, inputSize])\n",
    "y = tf.placeholder(tf.float32, shape = [None, numClasses])"
   ]
  },
  {
   "cell_type": "code",
   "execution_count": 6,
   "metadata": {},
   "outputs": [],
   "source": [
    "numHiddenUnits = 256\n",
    "\n",
    "W1 = tf.Variable(tf.truncated_normal([inputSize, numHiddenUnits], stddev=0.1))\n",
    "B1 = tf.Variable(tf.constant(0.1), [numHiddenUnits])\n",
    "W2 = tf.Variable(tf.truncated_normal([numHiddenUnits, numClasses], stddev=0.1))\n",
    "B2 = tf.Variable(tf.constant(0.1), [numClasses])"
   ]
  },
  {
   "cell_type": "code",
   "execution_count": 7,
   "metadata": {},
   "outputs": [],
   "source": [
    "hiddenLayerOutput = tf.matmul(X, W1) + B1\n",
    "hiddenLayerOutput = tf.nn.relu(hiddenLayerOutput)\n",
    "finalOutput = tf.matmul(hiddenLayerOutput, W2) + B2\n",
    "finalOutput = tf.nn.relu(finalOutput) "
   ]
  },
  {
   "cell_type": "code",
   "execution_count": 8,
   "metadata": {},
   "outputs": [
    {
     "name": "stdout",
     "output_type": "stream",
     "text": [
      "WARNING:tensorflow:From <ipython-input-8-bd3b2383a357>:1: softmax_cross_entropy_with_logits (from tensorflow.python.ops.nn_ops) is deprecated and will be removed in a future version.\n",
      "Instructions for updating:\n",
      "\n",
      "Future major versions of TensorFlow will allow gradients to flow\n",
      "into the labels input on backprop by default.\n",
      "\n",
      "See `tf.nn.softmax_cross_entropy_with_logits_v2`.\n",
      "\n"
     ]
    }
   ],
   "source": [
    "loss = tf.reduce_mean(tf.nn.softmax_cross_entropy_with_logits(labels = y, logits = finalOutput))\n",
    "opt = tf.train.GradientDescentOptimizer(learning_rate = .1).minimize(loss)"
   ]
  },
  {
   "cell_type": "code",
   "execution_count": 9,
   "metadata": {},
   "outputs": [],
   "source": [
    "correct_prediction = tf.equal(tf.argmax(finalOutput,1), tf.argmax(y,1))\n",
    "accuracy = tf.reduce_mean(tf.cast(correct_prediction, \"float\"))"
   ]
  },
  {
   "cell_type": "code",
   "execution_count": 13,
   "metadata": {},
   "outputs": [
    {
     "name": "stdout",
     "output_type": "stream",
     "text": [
      "step 0, training accuracy 0.265625\n",
      "step 1000, training accuracy 0.90625\n",
      "step 2000, training accuracy 0.9375\n",
      "step 3000, training accuracy 0.96875\n",
      "step 4000, training accuracy 0.96875\n",
      "step 5000, training accuracy 0.984375\n",
      "step 6000, training accuracy 1\n",
      "step 7000, training accuracy 1\n",
      "step 8000, training accuracy 0.984375\n",
      "step 9000, training accuracy 0.984375\n"
     ]
    }
   ],
   "source": [
    "trainingIterations = 10000\n",
    "batchSize = 64\n",
    "sess = tf.Session()\n",
    "init = tf.global_variables_initializer()\n",
    "sess.run(init)\n",
    "\n",
    "for i in range(trainingIterations):\n",
    "    batch = mnist.train.next_batch(batchSize)\n",
    "    batchInput = batch[0]\n",
    "    batchLabels = batch[1]\n",
    "    _, trainingLoss = sess.run([opt, loss], feed_dict={X: batchInput, y: batchLabels})\n",
    "    if i%1000 == 0:\n",
    "        trainAccuracy = accuracy.eval(session=sess, feed_dict={X: batchInput, y: batchLabels})\n",
    "        print (\"step %d, training accuracy %g\"%(i, trainAccuracy))"
   ]
  },
  {
   "cell_type": "markdown",
   "metadata": {},
   "source": [
    "两层神经网络"
   ]
  },
  {
   "cell_type": "code",
   "execution_count": 14,
   "metadata": {},
   "outputs": [
    {
     "name": "stdout",
     "output_type": "stream",
     "text": [
      "step 0, training accuracy 0.265625\n",
      "step 1000, training accuracy 0.96875\n",
      "step 2000, training accuracy 1\n",
      "step 3000, training accuracy 1\n",
      "step 4000, training accuracy 1\n",
      "step 5000, training accuracy 1\n",
      "step 6000, training accuracy 1\n",
      "step 7000, training accuracy 1\n",
      "step 8000, training accuracy 1\n",
      "step 9000, training accuracy 1\n",
      "testing accuracy: 0.9786999821662903\n"
     ]
    }
   ],
   "source": [
    "numHiddenUnitsLayer2 = 100\n",
    "trainingIterations = 10000\n",
    "\n",
    "X = tf.placeholder(tf.float32, shape = [None, inputSize])\n",
    "y = tf.placeholder(tf.float32, shape = [None, numClasses])\n",
    "\n",
    "W1 = tf.Variable(tf.random_normal([inputSize, numHiddenUnits], stddev=0.1))\n",
    "B1 = tf.Variable(tf.constant(0.1), [numHiddenUnits])\n",
    "W2 = tf.Variable(tf.random_normal([numHiddenUnits, numHiddenUnitsLayer2], stddev=0.1))\n",
    "B2 = tf.Variable(tf.constant(0.1), [numHiddenUnitsLayer2])\n",
    "W3 = tf.Variable(tf.random_normal([numHiddenUnitsLayer2, numClasses], stddev=0.1))\n",
    "B3 = tf.Variable(tf.constant(0.1), [numClasses])\n",
    "\n",
    "hiddenLayerOutput = tf.matmul(X, W1) + B1\n",
    "hiddenLayerOutput = tf.nn.relu(hiddenLayerOutput)\n",
    "hiddenLayer2Output = tf.matmul(hiddenLayerOutput, W2) + B2\n",
    "hiddenLayer2Output = tf.nn.relu(hiddenLayer2Output)\n",
    "finalOutput = tf.matmul(hiddenLayer2Output, W3) + B3\n",
    "\n",
    "loss = tf.reduce_mean(tf.nn.softmax_cross_entropy_with_logits(labels = y, logits = finalOutput))\n",
    "opt = tf.train.GradientDescentOptimizer(learning_rate = .1).minimize(loss)\n",
    "\n",
    "correct_prediction = tf.equal(tf.argmax(finalOutput,1), tf.argmax(y,1))\n",
    "accuracy = tf.reduce_mean(tf.cast(correct_prediction, \"float\"))\n",
    "\n",
    "sess = tf.Session()\n",
    "init = tf.global_variables_initializer()\n",
    "sess.run(init)\n",
    "\n",
    "for i in range(trainingIterations):\n",
    "    batch = mnist.train.next_batch(batchSize)\n",
    "    batchInput = batch[0]\n",
    "    batchLabels = batch[1]\n",
    "    _, trainingLoss = sess.run([opt, loss], feed_dict={X: batchInput, y: batchLabels})\n",
    "    if i%1000 == 0:\n",
    "        train_accuracy = accuracy.eval(session=sess, feed_dict={X: batchInput, y: batchLabels})\n",
    "        print (\"step %d, training accuracy %g\"%(i, train_accuracy))\n",
    "\n",
    "testInputs = mnist.test.images\n",
    "testLabels = mnist.test.labels\n",
    "acc = accuracy.eval(session=sess, feed_dict = {X: testInputs, y: testLabels})\n",
    "print(\"testing accuracy: {}\".format(acc))"
   ]
  },
  {
   "cell_type": "markdown",
   "metadata": {},
   "source": [
    "## Pytorch实现二层神经网络"
   ]
  },
  {
   "cell_type": "code",
   "execution_count": 22,
   "metadata": {},
   "outputs": [],
   "source": [
    "from torch  import nn\n",
    "import torch.nn.functional as F\n",
    "\n",
    "class Minist_NN(nn.Module):\n",
    "    def __init__(self,in_channel,out_channel):\n",
    "        super(Minist_NN,self).__init__()\n",
    "        self.hiddenLine1 = nn.Linear(in_channel,128)\n",
    "        self.hiddenLine2 = nn.Linear(128,256)\n",
    "        self.out = nn.Linear(256,out_channel)\n",
    "    \n",
    "    def forward(self,x):\n",
    "        x = F.relu(self.hiddenLine1(x))\n",
    "        x = F.relu(self.hiddenLine2(x))\n",
    "        x = self.out(x)\n",
    "        return x"
   ]
  },
  {
   "cell_type": "code",
   "execution_count": 23,
   "metadata": {},
   "outputs": [
    {
     "name": "stdout",
     "output_type": "stream",
     "text": [
      "(50000, 784)\n"
     ]
    },
    {
     "data": {
      "image/png": "[encoded data removed]",
      "text/plain": [
       "<Figure size 432x288 with 1 Axes>"
      ]
     },
     "metadata": {
      "needs_background": "light"
     },
     "output_type": "display_data"
    }
   ],
   "source": [
    "from pathlib import Path\n",
    "import requests\n",
    "\n",
    "DATA_PATH = Path(\"data\")\n",
    "PATH = DATA_PATH / \"mnist\"\n",
    "PATH.mkdir(parents=True, exist_ok=True)\n",
    "\n",
    "URL = \"http://deeplearning.net/data/mnist/\"\n",
    "FILENAME = \"mnist.pkl.gz\"\n",
    "\n",
    "if not (PATH / FILENAME).exists():\n",
    "        content = requests.get(URL + FILENAME).content\n",
    "        (PATH / FILENAME).open(\"wb\").write(content)\n",
    "\n",
    "import pickle\n",
    "import gzip\n",
    "\n",
    "with gzip.open((PATH / FILENAME).as_posix(), \"rb\") as f:\n",
    "        ((x_train, y_train), (x_valid, y_valid), _) = pickle.load(f, encoding=\"latin-1\")\n",
    "        \n",
    "        \n",
    "from matplotlib import pyplot\n",
    "import numpy as np\n",
    "\n",
    "pyplot.imshow(x_train[0].reshape((28,28)),cmap='gray')\n",
    "print(x_train.shape)\n",
    "\n",
    "import torch \n",
    "from torch.utils.data import TensorDataset\n",
    "from torch.utils.data import DataLoader\n",
    "\n",
    "def DataGet(x_train,y_train,x_valid,y_valid,batch):\n",
    "    \n",
    "    x_train,y_train,x_valid,y_valid = map(torch.tensor,(x_train,y_train,x_valid,y_valid))\n",
    "    train_dataset    = TensorDataset(x_train,y_train)\n",
    "    train_dataloader = DataLoader(dataset=train_dataset,\n",
    "                                  batch_size=batch,\n",
    "                                  shuffle=True)\n",
    "    valid_dataset    = TensorDataset(x_valid,y_valid)\n",
    "    valid_dataloader = DataLoader(dataset=valid_dataset,\n",
    "                                  batch_size=batch,\n",
    "                                  shuffle=True)\n",
    "    \n",
    "    return train_dataloader,valid_dataloader"
   ]
  },
  {
   "cell_type": "code",
   "execution_count": 24,
   "metadata": {},
   "outputs": [
    {
     "name": "stdout",
     "output_type": "stream",
     "text": [
      "当前step=0  验证集损失值：2.278511262512207\n",
      "当前step=1  验证集损失值：2.2443044460296626\n",
      "当前step=2  验证集损失值：2.19052292175293\n",
      "当前step=3  验证集损失值：2.102170663833618\n",
      "当前step=4  验证集损失值：1.9590869409561158\n",
      "当前step=5  验证集损失值：1.7457384288787843\n",
      "当前step=6  验证集损失值：1.484122947692871\n",
      "当前step=7  验证集损失值：1.2365941829681397\n",
      "当前step=8  验证集损失值：1.041428999519348\n",
      "当前step=9  验证集损失值：0.8979174104690552\n",
      "当前step=10  验证集损失值：0.7909946117401123\n",
      "当前step=11  验证集损失值：0.7103542280197145\n",
      "当前step=12  验证集损失值：0.6474472969055176\n",
      "当前step=13  验证集损失值：0.5977427173614502\n",
      "当前step=14  验证集损失值：0.5576216386795044\n",
      "当前step=15  验证集损失值：0.5245774828910827\n",
      "当前step=16  验证集损失值：0.4978057392597199\n",
      "当前step=17  验证集损失值：0.47540359649658204\n",
      "当前step=18  验证集损失值：0.45608646697998045\n",
      "当前step=19  验证集损失值：0.4399733902931213\n",
      "当前step=20  验证集损失值：0.4262361519813538\n",
      "当前step=21  验证集损失值：0.413517134141922\n",
      "当前step=22  验证集损失值：0.4028465699672699\n",
      "当前step=23  验证集损失值：0.3936218783378601\n",
      "当前step=24  验证集损失值：0.38549459419250487\n"
     ]
    }
   ],
   "source": [
    "#模型获取 定义模型 优化器 损失函数\n",
    "from torch import optim\n",
    "def GetModelAndOpt():\n",
    "    in_channel = 784\n",
    "    out_channel = 10\n",
    "    model = Minist_NN(in_channel,out_channel)\n",
    "    #opt   = optim.Adam(model.parameters(),lr=0.001)\n",
    "    opt   = optim.SGD(model.parameters(),lr=0.001)\n",
    "    loss_func = F.cross_entropy\n",
    "    return model,opt,loss_func\n",
    "\n",
    "#定义损失函数执行\n",
    "def loss_batch(model,x_data,y_data,loss_func,opt=None):\n",
    "    if model:\n",
    "        loss = loss_func(model(x_data),y_data)\n",
    "    else:\n",
    "        print('model is not exist')\n",
    "        return \n",
    "    if opt is not None:\n",
    "        opt.zero_grad()\n",
    "        loss.backward()\n",
    "        opt.step()\n",
    "        \n",
    "\n",
    "    return loss.item(),len(x_data)\n",
    "\n",
    "# 模型训练\n",
    "def model_fit(steps,model,opt,loss_func,train_dataloader,valid_dataloader):\n",
    "    for step in range(steps):\n",
    "        model.train()\n",
    "        for x,y in train_dataloader:\n",
    "            loss_batch(model,x,y,loss_func,opt)\n",
    "        \n",
    "        model.eval()\n",
    "        #更改参数属性，使参数不反向传播、更新 如果此时还进行反向传播会出现element 0 have no grad的错误\n",
    "        with torch.no_grad():\n",
    "            losses,nums = zip(*[loss_batch(model,x,y,loss_func) for x,y in valid_dataloader])\n",
    "        val_loss = np.sum(np.multiply(losses,nums)/np.sum(nums))\n",
    "        print('当前step='+str(step),' 验证集损失值：'+str(val_loss))\n",
    "    \n",
    "    torch.save(model.state_dict(),'model.pkl')\n",
    "\n",
    "batch = 64\n",
    "train_dataloader,valid_dataloader = DataGet(x_train,y_train,x_valid,y_valid,batch)\n",
    "model,opt,loss_func = GetModelAndOpt()\n",
    "steps = 25\n",
    "model_fit(steps,model,opt,loss_func,train_dataloader,valid_dataloader)"
   ]
  },
  {
   "cell_type": "code",
   "execution_count": 25,
   "metadata": {},
   "outputs": [
    {
     "name": "stdout",
     "output_type": "stream",
     "text": [
      "Minist_NN(\n",
      "  (hiddenLine1): Linear(in_features=784, out_features=128, bias=True)\n",
      "  (hiddenLine2): Linear(in_features=128, out_features=256, bias=True)\n",
      "  (out): Linear(in_features=256, out_features=10, bias=True)\n",
      ")\n",
      "tensor([-0.0407,  0.0361, -0.0090, -0.0053,  0.1120, -0.0126,  0.0952,  0.0154,\n",
      "        -0.0615,  0.0736], grad_fn=<AddBackward0>)\n",
      "tensor([-1.5295,  2.8751,  4.2068,  5.9994, -4.5206,  2.6120, -0.0490, -4.3164,\n",
      "         3.2733, -3.8552], grad_fn=<AddBackward0>)\n"
     ]
    },
    {
     "data": {
      "image/png": "[encoded data removed]",
      "text/plain": [
       "<Figure size 432x288 with 1 Axes>"
      ]
     },
     "metadata": {
      "needs_background": "light"
     },
     "output_type": "display_data"
    },
    {
     "data": {
      "image/png": "[encoded data removed]",
      "text/plain": [
       "<Figure size 432x288 with 1 Axes>"
      ]
     },
     "metadata": {
      "needs_background": "light"
     },
     "output_type": "display_data"
    },
    {
     "data": {
      "image/png": "[encoded data removed]",
      "text/plain": [
       "<Figure size 432x288 with 1 Axes>"
      ]
     },
     "metadata": {
      "needs_background": "light"
     },
     "output_type": "display_data"
    }
   ],
   "source": [
    "def Softmax(list):\n",
    "    sum_exp = np.sum([np.exp(i) for i in  list])\n",
    "    result = [np.exp(i)/sum_exp for i  in list]\n",
    "    return result\n",
    "\n",
    "import seaborn as sns\n",
    "import matplotlib.pyplot as  plt\n",
    "\n",
    "def model_load():\n",
    "    #创建一个新的model\n",
    "    model,opt,loss_func = GetModelAndOpt()\n",
    "    print(model)\n",
    "    pyplot.imshow(x_valid[0].reshape((28,28)),cmap='gray')\n",
    "    \n",
    "    #查看器预测结果\n",
    "    predict = model(torch.Tensor(x_valid[0]))\n",
    "    print(predict)\n",
    "    #输出类型为 tensor 且附带可求导属性，因此需要使用predict.detach().numpy()将predict转换成numpy形式\n",
    "    predict_result = Softmax(np.array(predict.detach().numpy()))\n",
    "    fig,axes = plt.subplots()\n",
    "    axes.bar(x=[i for i in range(10)],height=predict_result,width = 0.5,tick_label=[i for i in range(10)])\n",
    "    axes.set_title('UnLoad Model')\n",
    "    #load已经训练完成的模型\n",
    "    model.load_state_dict(torch.load('model.pkl'))\n",
    "    \n",
    "    predict = model(torch.Tensor(x_valid[0]))\n",
    "    print(predict)\n",
    "    predict_result = Softmax(np.array(predict.detach().numpy()))\n",
    "    fig,axes = plt.subplots()\n",
    "    axes.bar(x=[i for i in range(10)],height=predict_result,width = 0.5,tick_label=[i for i in range(10)])\n",
    "    axes.set_title('Model Loaded')  \n",
    "\n",
    "model_load()"
   ]
  },
  {
   "cell_type": "code",
   "execution_count": null,
   "metadata": {},
   "outputs": [],
   "source": []
  }
 ],
 "metadata": {
  "kernelspec": {
   "display_name": "Python 3",
   "language": "python",
   "name": "python3"
  },
  "language_info": {
   "codemirror_mode": {
    "name": "ipython",
    "version": 3
   },
   "file_extension": ".py",
   "mimetype": "text/x-python",
   "name": "python",
   "nbconvert_exporter": "python",
   "pygments_lexer": "ipython3",
   "version": "3.7.3"
  }
 },
 "nbformat": 4,
 "nbformat_minor": 2
}
