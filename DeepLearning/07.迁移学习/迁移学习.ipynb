{
 "cells": [
  {
   "cell_type": "markdown",
   "metadata": {},
   "source": [
    "## 迁移学习\n",
    "\n",
    "```\n",
    "将已经训练完成的模型超参数据用于另一个相似任务的超参初始化，然后进行后续的学习任务。\n",
    "```\n",
    "\n",
    "### 迁移学习解决问题：\n",
    "\n",
    "```\n",
    "1. 大数据，少标识\n",
    "2. 大数据，弱计算\n",
    "3. 普通化模型和个性化需求的矛盾\n",
    "4. 特定应用的需求\n",
    "```\n",
    "### 迁移学习存在的问题：\n",
    "\n",
    "```\n",
    "1. 特征数据分布不同\n",
    "2. 标注数据过期\n",
    "```\n",
    "<img src='迁移学习.png' style='zoom:100%;float:left'>\n"
   ]
  },
  {
   "cell_type": "code",
   "execution_count": null,
   "metadata": {},
   "outputs": [],
   "source": []
  }
 ],
 "metadata": {
  "kernelspec": {
   "display_name": "Python 3",
   "language": "python",
   "name": "python3"
  },
  "language_info": {
   "codemirror_mode": {
    "name": "ipython",
    "version": 3
   },
   "file_extension": ".py",
   "mimetype": "text/x-python",
   "name": "python",
   "nbconvert_exporter": "python",
   "pygments_lexer": "ipython3",
   "version": "3.7.3"
  }
 },
 "nbformat": 4,
 "nbformat_minor": 2
}
