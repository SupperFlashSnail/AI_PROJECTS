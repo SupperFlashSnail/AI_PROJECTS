{
 "cells": [
  {
   "cell_type": "markdown",
   "metadata": {},
   "source": [
    "# AI 学习资源\n",
    "```\n",
    "* pytorch学些文档：\n",
    "https://pytorch-cn.readthedocs.io/zh/latest/\n",
    "\n",
    "* pytorch vision模块 提供基本数据集 网络架构 训练完成的模块\n",
    "https://pytorch.org/docs/stable/torchvision/index.html\n",
    "\n",
    "* Anaconda下载源：\n",
    "https://www.anaconda.com/distribution/\n",
    "https://www.jianshu.com/p/026a2c43b081\n",
    "\n",
    "* source insight 破解版下载\n",
    "https://www.cnblogs.com/lsdb/articles/9065738.html\n",
    "\n",
    "* pip install 国内源下载\n",
    "\n",
    "软件安装使用国内源安装：\n",
    "阿里云 https://mirrors.aliyun.com/pypi/simple/\n",
    "中国科技大学 https://pypi.mirrors.ustc.edu.cn/simple/\n",
    "豆瓣(douban) http://pypi.douban.com/simple/\n",
    "清华大学 https://pypi.tuna.tsinghua.edu.cn/simple/\n",
    "中国科学技术大学 http://pypi.mirrors.ustc.edu.cn/simple/\n",
    "\n",
    "pip install 包名 -i http://pypi.douban.com/simple --trusted-host pypi.douban.com\n",
    "\n",
    "* 深度学习课堂：\n",
    "224D \n",
    "229D\n",
    "CS231\n",
    "\n",
    "* AI优秀论文网站 BenchMark\n",
    "http://www.benchmark.com/\n",
    "\n",
    "\n",
    "* 在线打字：\n",
    "https://dazi.kukuw.com/key.php?kid=k1\n",
    "\n",
    "* AI免费视屏网址\n",
    "https://software.intel.com/zh-cn/ai/get-started\n",
    "\n",
    "```"
   ]
  },
  {
   "cell_type": "markdown",
   "metadata": {},
   "source": [
    "# AI使用错误总结"
   ]
  },
  {
   "cell_type": "markdown",
   "metadata": {},
   "source": [
    "## 1. pytorch 定义网络类\n",
    "```\n",
    "pytorch定义网络类时会自定义forward成员函数。forward函数是继承nn.Module后供开发人员自定义的钩子函数，在网络前向传播时会自动调用forward函数，如果forward函数名字写错，则会出现函数未定义的错误。 \n",
    "```\n",
    "<img src=\"./pytorch_image/pytorch_forward定义.png\" >"
   ]
  },
  {
   "cell_type": "markdown",
   "metadata": {},
   "source": [
    "## 2.损失函数选择和数据类型要求之间的联系\n",
    "```\n",
    "对于不同的任务需要选择不同的损失函数，不同的损失函数需要的输入的数据类型不同：\n",
    "* 对于多分类任务 使用损失函数 torch.nn.CrossEntropyLoss()函数，此函数要求输入的input数据为float类型，target数据类型为long类型\n",
    "* 对于而分类任务 使用损失函数 torch.nn.BCEWithLogistsLoss()函数，此函数要求输入的input数据为float类型，target数据类型为float类型\n",
    "* 对于回归任务   使用损失函数 tprch.nn.L1Loss() 函数，此函数要求输入的input数据为float类型，target数据类型为float类型\n",
    "```\n",
    "<img src=\"./pytorch_image/data_type.png\" >"
   ]
  },
  {
   "cell_type": "markdown",
   "metadata": {},
   "source": [
    "## 3. numpy数据类型转换易错操作\n",
    "```\n",
    "numpy中的数据类型转换不能直接修改原数据的dtype，只能使用astype()函数,否则会改变元素个数，因为dtype会根据数据长度重新划分元素\n",
    "```\n",
    "<img src=\"./pytorch_image/numpy数据类型转换1.png\" >\n",
    "<img src=\"./pytorch_image/numpy数据类型转换2.png\" >"
   ]
  },
  {
   "cell_type": "markdown",
   "metadata": {},
   "source": [
    "## 4. LinearRegression类已经存在，如果自定义一个和其相同的类，则不会报冲突，而是随机选择使用\n",
    "\n",
    "<img src=\"./pytorch_image/LinearRegression.png\" >\n"
   ]
  },
  {
   "cell_type": "markdown",
   "metadata": {},
   "source": [
    "## 5.神经网络容易出现过拟合问题，过拟合问题观察方式\n",
    "\n",
    "<img src=\"./pytorch_image/FIT.jpg\" style='zoom:50%'>"
   ]
  },
  {
   "cell_type": "markdown",
   "metadata": {},
   "source": [
    "## 6.机器学习训练集数据种类不均衡\n",
    "```\n",
    "机器学习出现数据集种类不均衡会导致分类模型训练不均衡\n",
    "```\n",
    "<img src=\"./pytorch_image/data_balanced.png\" >\n",
    "\n",
    "```\n",
    "数据分布不均会导致模型在学习过程中对数据较多的种类学习次数较多，对数据较少的学习次数较少，因此在最后的模型测试时会倾向于种类较多的数据种类。\n",
    "```\n",
    "### 数据集分布不均衡问题解决\n",
    "```\n",
    "当数据集分布不均衡时，需要通过下采样或者上采样的方式进行训练数据集构造\n",
    "```\n",
    "<img src=\"./pytorch_image/data_balanced2.png\" >"
   ]
  },
  {
   "cell_type": "code",
   "execution_count": null,
   "metadata": {},
   "outputs": [],
   "source": []
  }
 ],
 "metadata": {
  "kernelspec": {
   "display_name": "Python 3",
   "language": "python",
   "name": "python3"
  },
  "language_info": {
   "codemirror_mode": {
    "name": "ipython",
    "version": 3
   },
   "file_extension": ".py",
   "mimetype": "text/x-python",
   "name": "python",
   "nbconvert_exporter": "python",
   "pygments_lexer": "ipython3",
   "version": "3.7.3"
  }
 },
 "nbformat": 4,
 "nbformat_minor": 2
}
