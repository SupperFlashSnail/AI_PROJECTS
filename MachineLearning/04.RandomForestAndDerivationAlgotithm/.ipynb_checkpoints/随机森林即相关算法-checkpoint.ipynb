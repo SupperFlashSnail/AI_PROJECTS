{
 "cells": [
  {
   "cell_type": "markdown",
   "metadata": {},
   "source": [
    "## 算法概述\n",
    "\n",
    "```\n",
    "和决策树相关的算法包括：\n",
    "1.决策树\n",
    "2.随机森林\n",
    "3.提升算法：主要代表 GBDT Xgboost AdaBoost lightgbm算法\n",
    "4.堆叠算法：基于随机森林的思想，堆叠各种分类器\n",
    "```"
   ]
  },
  {
   "cell_type": "markdown",
   "metadata": {},
   "source": [
    "# 1.决策树算法\n",
    "\n",
    "```\n",
    "在已知所有概率事件发生的基础上，通过以最大限度降低熵值为目标，创建决策树。简而言之，将所有概率事件都发生的可视数据按照最井然有序的方式进行树分支划分。\n",
    "```\n",
    "### 决策树模型\n",
    "\n",
    "<img src=\"决策树.jpg\" style='zoom:60%' >\n",
    "\n",
    "\n",
    "### 决策树创建流程\n",
    "```\n",
    "1.  标签熵值计算：计算源数据label的熵值 标记为 H_Source\n",
    "2.  结点熵值计算：逐一计算每一个特征进行最优分类后的熵值 Root_H_Node1 Root_H_Node2 .....Root_H_NodeN\n",
    "3.  熵增益计算：计算每个特征分类熵值后即可计算熵值增益值，即熵值下降的值 (H_Source-Root_H_Node1) (H_Source-Root_H_Node2) .......,然后将熵值增益最大  的选项作为决策树的根结点，然后按照最优方式划分相应的子结点（一般决策树是二叉树）\n",
    "4.  然后对每个子节点重复2-3的操作，求出后续结点\n",
    "```\n",
    "### 决策树建立的问题\n",
    "```\n",
    "1. 数据源问题：决策树要求数据源涵盖所有概率事件，如果数据源获取不足，且数据中噪音点较多时，学习模型的误差较大\n",
    "\n",
    "2. 节点特征如何分类：对于离散数据类型，即按照指定类别分类即可，对于连续数据类型，则按照排列后的数据不断进行分割点选取，然后划分数据，最后计算分类后数据期望和均方差，选择均方差最小为的分割点为最优分割点\n",
    "```\n",
    "<img src=\"连续值节点数据切分.png\"  style='zoom:50%'>\n",
    "\n",
    "```\n",
    "3. 增益如何计算：\n",
    "```\n",
    "```\n",
    "熵值计算：\n",
    "```\n",
    "<img src=\"熵.png\" >\n",
    "\n",
    "```\n",
    "增益计算：\n",
    "1. ID3信息增益：通过计算节点熵值，然后计算熵值减少量，进而确定节点特征。但是存在很大缺点，就是没法区分非常稀疏的离散数据。此类数据的信息增益很大，但是对于分类贡献却很小。为了解决此问题，引入信息增益率。\n",
    "\n",
    "2. C4.5信息增益率：信息增益率是在计算信息增益的基础上再除以当前分类节点自身熵值。对于信息增益只考虑分类后的熵值减少的量，而信息增益率是在考虑当前节点数据是否有序排列的基础上，再考虑熵值增益效果。对于连续值节点本身的熵值是在二分数据之后计算熵值\n",
    "\n",
    "\n",
    "3. CART:使用GINI系数来当做衡量标准：\n",
    "\n",
    "  GINI系数：GINI系数的计算方式和熵值计算方法相似，用于表示数据混乱程度，越混乱，GINI系数越大\n",
    "```\n",
    "<img src=\"GINI系数.png\" >\n",
    "\n",
    "```\n",
    "连续值节点数据增益率求解：\n",
    "```\n",
    "<img src=\"连续值节点数据增益率求解过程.png\"  style='zoom:60%'>\n",
    "\n",
    "4. 如何解决过拟合问题：\n",
    "```\n",
    "为了解决决策树过拟合的问题，采用预剪枝 和 后 剪枝的方法：\n",
    "过拟合：在训练的时候损失很小，在测试的时候损失很大。比如决策树叶子结点数据集较少，每个训练样本预测正确率虽然很高但是无意义。\n",
    "预剪枝(实用效果更好)：在构建决策树的过程中，限制树深度、叶子节点个数、叶子样本数、信息增益量\n",
    "后剪枝：在决策树训练完成之后，然后根据要求将不满足要求的叶子节点减掉，减掉之后，该叶子节点的父节点变成叶子节点。\n",
    "```\n",
    "<img src=\"后剪枝.png\" style='zoom:60%' >\n",
    "\n",
    "5. 决策树如何解决回归问题：\n",
    "```\n",
    "决策树主要完成的是分类任务，决策树也可以实现回归任务。二者异同如下：\n",
    "相同：对于回归任务处理和连续特征值处理，即对回归的数据进行最优的二分类操作。\n",
    "不同：分类任务每一个结点保存的是分类后的数据集，而回归任务每个结点不仅保存分类后的数据，而且保存数据集的期望值，该期望值即为当前节点的预测值。\n",
    "在代码实现过程中，分类任务使用熵值 GINI系数进行分类，在回归任务中使用方差mse进行分类即可，回归任务最终预测值为叶子节点中样本的期望值。\n",
    "```\n"
   ]
  },
  {
   "cell_type": "markdown",
   "metadata": {},
   "source": [
    "## 决策树实例"
   ]
  },
  {
   "cell_type": "code",
   "execution_count": 1,
   "metadata": {},
   "outputs": [
    {
     "name": "stderr",
     "output_type": "stream",
     "text": [
      "Downloading Cal. housing from https://ndownloader.figshare.com/files/5976036 to C:\\Users\\PC\\scikit_learn_data\n"
     ]
    }
   ],
   "source": [
    "%matplotlib inline\n",
    "import matplotlib.pyplot as plt\n",
    "import pandas as pd\n",
    "\n",
    "from sklearn.datasets.california_housing import fetch_california_housing\n",
    "housing = fetch_california_housing()"
   ]
  },
  {
   "cell_type": "code",
   "execution_count": 3,
   "metadata": {},
   "outputs": [
    {
     "data": {
      "text/plain": [
       "DecisionTreeRegressor(criterion='mse', max_depth=2, max_features=None,\n",
       "                      max_leaf_nodes=None, min_impurity_decrease=0.0,\n",
       "                      min_impurity_split=None, min_samples_leaf=1,\n",
       "                      min_samples_split=2, min_weight_fraction_leaf=0.0,\n",
       "                      presort=False, random_state=None, splitter='best')"
      ]
     },
     "execution_count": 3,
     "metadata": {},
     "output_type": "execute_result"
    }
   ],
   "source": [
    "from sklearn import tree\n",
    "dtr = tree.DecisionTreeRegressor(max_depth = 2)    #设置树参数 并创建一个决策树操作句柄类\n",
    "dtr.fit(housing.data[:, [6, 7]], housing.target)   #通过操作句柄类进行数据训练 传入训练数据特征 和 标签"
   ]
  },
  {
   "cell_type": "code",
   "execution_count": null,
   "metadata": {},
   "outputs": [],
   "source": [
    "#要可视化显示 首先需要安装 graphviz   http://www.graphviz.org/Download..php\n",
    "# 设置数据集参数\n",
    "dot_data = tree.export_graphviz(\n",
    "    dtr,\n",
    "    out_file = None,\n",
    "    feature_names = housing.feature_names[6:8],\n",
    "    filled = True,\n",
    "    impurity = False,\n",
    "    rounded = True\n",
    ")\n",
    "# 决策树可视化显示\n",
    "import pydotplus\n",
    "graph = pydotplus.graph_from_dot_data(dot_data)\n",
    "graph.get_nodes()[7].set_fillcolor(\"#FFF2DD\")\n",
    "from IPython.display import Image\n",
    "Image(graph.create_png())\n",
    "\n",
    "#可视化模型保存\n",
    "graph.write_png(\"dtr_white_background.png\")"
   ]
  },
  {
   "cell_type": "code",
   "execution_count": 4,
   "metadata": {},
   "outputs": [
    {
     "data": {
      "text/plain": [
       "0.637355881715626"
      ]
     },
     "execution_count": 4,
     "metadata": {},
     "output_type": "execute_result"
    }
   ],
   "source": [
    "from sklearn.model_selection import train_test_split\n",
    "data_train, data_test, target_train, target_test = \\\n",
    "    train_test_split(housing.data, housing.target, test_size = 0.1, random_state = 42)\n",
    "\n",
    "dtr = tree.DecisionTreeRegressor(random_state = 42)  #创建决策树\n",
    "dtr.fit(data_train, target_train)                    #模型训练\n",
    "dtr.score(data_test, target_test)                    #模型正确率"
   ]
  },
  {
   "cell_type": "markdown",
   "metadata": {},
   "source": [
    "### 最优参数选取-GridSearchCV\n",
    "```\n",
    "从参数空间中选取参数，然后遍历所有参数组合情况，进行模型训练，最后通过模型训练结果找到最优参数组合\n",
    "```"
   ]
  },
  {
   "cell_type": "code",
   "execution_count": 8,
   "metadata": {},
   "outputs": [
    {
     "data": {
      "text/plain": [
       "({'min_samples_split': 3, 'n_estimators': 100}, 0.8076764114602709)"
      ]
     },
     "execution_count": 8,
     "metadata": {},
     "output_type": "execute_result"
    }
   ],
   "source": [
    "from sklearn.model_selection import GridSearchCV\n",
    "from sklearn.ensemble import RandomForestRegressor\n",
    "tree_param_grid = { 'min_samples_split': list((3,6,9)),'n_estimators':list((10,50,100))}  #定义参数空间   随机森林叶子节点样本数  决策树个数\n",
    "grid = GridSearchCV(RandomForestRegressor(),param_grid=tree_param_grid, cv=5)             #指定学习模型 和  参数空间 获取操作句柄\n",
    "grid.fit(data_train, target_train)                                                        #模型训练 \n",
    "grid.best_params_, grid.best_score_                                    #打印最优参数组合 和 最大得分值"
   ]
  },
  {
   "cell_type": "code",
   "execution_count": 9,
   "metadata": {},
   "outputs": [
    {
     "data": {
      "text/plain": [
       "MedInc        0.524257\n",
       "AveOccup      0.137947\n",
       "Latitude      0.090622\n",
       "Longitude     0.089414\n",
       "HouseAge      0.053970\n",
       "AveRooms      0.044443\n",
       "Population    0.030263\n",
       "AveBedrms     0.029084\n",
       "dtype: float64"
      ]
     },
     "execution_count": 9,
     "metadata": {},
     "output_type": "execute_result"
    }
   ],
   "source": [
    "rfr = RandomForestRegressor( min_samples_split=3,n_estimators = 100,random_state = 42)\n",
    "rfr.fit(data_train, target_train)\n",
    "rfr.score(data_test, target_test)\n",
    "pd.Series(rfr.feature_importances_, index = housing.feature_names).sort_values(ascending = False) #查看随机森林模型 特征重要性"
   ]
  },
  {
   "cell_type": "markdown",
   "metadata": {},
   "source": [
    "# 2.随机森林\n",
    "```\n",
    "随机森林算法是从训练集中随机有放回的取样N次，用于生成N个决策树，即创建一个决策树集群，也就是创建了一个随机森林。当输输入预测数据样本时，会通过每一个决策树进行计算，最后统计所有决策树的计算结果，选取出现最多的类为预测类别。\n",
    "\n",
    "对于分类任务，决策树使用熵值 熵值增益率 或者 GINI系数进行增益计算；对于回归任务，决策树使用方差进行计算。 即在创建随机森林时设置criterion参数为mse,一般默认就是mse,但是对于分类任务最好选择为C4.5\n",
    "```\n",
    "<img src=\"随机森林解决回归问题.png\" style='zoom:100%' >"
   ]
  },
  {
   "cell_type": "markdown",
   "metadata": {},
   "source": [
    "## 随机森林预测温度[回归任务]"
   ]
  },
  {
   "cell_type": "code",
   "execution_count": 10,
   "metadata": {},
   "outputs": [],
   "source": [
    "import pandas as pd\n",
    "features = pd.read_csv('data/temps.csv')"
   ]
  },
  {
   "cell_type": "code",
   "execution_count": 11,
   "metadata": {},
   "outputs": [
    {
     "data": {
      "text/html": [
       "<div>\n",
       "<style scoped>\n",
       "    .dataframe tbody tr th:only-of-type {\n",
       "        vertical-align: middle;\n",
       "    }\n",
       "\n",
       "    .dataframe tbody tr th {\n",
       "        vertical-align: top;\n",
       "    }\n",
       "\n",
       "    .dataframe thead th {\n",
       "        text-align: right;\n",
       "    }\n",
       "</style>\n",
       "<table border=\"1\" class=\"dataframe\">\n",
       "  <thead>\n",
       "    <tr style=\"text-align: right;\">\n",
       "      <th></th>\n",
       "      <th>year</th>\n",
       "      <th>month</th>\n",
       "      <th>day</th>\n",
       "      <th>week</th>\n",
       "      <th>temp_2</th>\n",
       "      <th>temp_1</th>\n",
       "      <th>average</th>\n",
       "      <th>actual</th>\n",
       "      <th>friend</th>\n",
       "    </tr>\n",
       "  </thead>\n",
       "  <tbody>\n",
       "    <tr>\n",
       "      <th>0</th>\n",
       "      <td>2016</td>\n",
       "      <td>1</td>\n",
       "      <td>1</td>\n",
       "      <td>Fri</td>\n",
       "      <td>45</td>\n",
       "      <td>45</td>\n",
       "      <td>45.6</td>\n",
       "      <td>45</td>\n",
       "      <td>29</td>\n",
       "    </tr>\n",
       "    <tr>\n",
       "      <th>1</th>\n",
       "      <td>2016</td>\n",
       "      <td>1</td>\n",
       "      <td>2</td>\n",
       "      <td>Sat</td>\n",
       "      <td>44</td>\n",
       "      <td>45</td>\n",
       "      <td>45.7</td>\n",
       "      <td>44</td>\n",
       "      <td>61</td>\n",
       "    </tr>\n",
       "    <tr>\n",
       "      <th>2</th>\n",
       "      <td>2016</td>\n",
       "      <td>1</td>\n",
       "      <td>3</td>\n",
       "      <td>Sun</td>\n",
       "      <td>45</td>\n",
       "      <td>44</td>\n",
       "      <td>45.8</td>\n",
       "      <td>41</td>\n",
       "      <td>56</td>\n",
       "    </tr>\n",
       "    <tr>\n",
       "      <th>3</th>\n",
       "      <td>2016</td>\n",
       "      <td>1</td>\n",
       "      <td>4</td>\n",
       "      <td>Mon</td>\n",
       "      <td>44</td>\n",
       "      <td>41</td>\n",
       "      <td>45.9</td>\n",
       "      <td>40</td>\n",
       "      <td>53</td>\n",
       "    </tr>\n",
       "    <tr>\n",
       "      <th>4</th>\n",
       "      <td>2016</td>\n",
       "      <td>1</td>\n",
       "      <td>5</td>\n",
       "      <td>Tues</td>\n",
       "      <td>41</td>\n",
       "      <td>40</td>\n",
       "      <td>46.0</td>\n",
       "      <td>44</td>\n",
       "      <td>41</td>\n",
       "    </tr>\n",
       "  </tbody>\n",
       "</table>\n",
       "</div>"
      ],
      "text/plain": [
       "   year  month  day  week  temp_2  temp_1  average  actual  friend\n",
       "0  2016      1    1   Fri      45      45     45.6      45      29\n",
       "1  2016      1    2   Sat      44      45     45.7      44      61\n",
       "2  2016      1    3   Sun      45      44     45.8      41      56\n",
       "3  2016      1    4   Mon      44      41     45.9      40      53\n",
       "4  2016      1    5  Tues      41      40     46.0      44      41"
      ]
     },
     "execution_count": 11,
     "metadata": {},
     "output_type": "execute_result"
    }
   ],
   "source": [
    "features.head(5)"
   ]
  },
  {
   "cell_type": "code",
   "execution_count": 12,
   "metadata": {},
   "outputs": [
    {
     "data": {
      "text/html": [
       "<div>\n",
       "<style scoped>\n",
       "    .dataframe tbody tr th:only-of-type {\n",
       "        vertical-align: middle;\n",
       "    }\n",
       "\n",
       "    .dataframe tbody tr th {\n",
       "        vertical-align: top;\n",
       "    }\n",
       "\n",
       "    .dataframe thead th {\n",
       "        text-align: right;\n",
       "    }\n",
       "</style>\n",
       "<table border=\"1\" class=\"dataframe\">\n",
       "  <thead>\n",
       "    <tr style=\"text-align: right;\">\n",
       "      <th></th>\n",
       "      <th>year</th>\n",
       "      <th>month</th>\n",
       "      <th>day</th>\n",
       "      <th>temp_2</th>\n",
       "      <th>temp_1</th>\n",
       "      <th>average</th>\n",
       "      <th>actual</th>\n",
       "      <th>friend</th>\n",
       "    </tr>\n",
       "  </thead>\n",
       "  <tbody>\n",
       "    <tr>\n",
       "      <th>count</th>\n",
       "      <td>348.0</td>\n",
       "      <td>348.000000</td>\n",
       "      <td>348.000000</td>\n",
       "      <td>348.000000</td>\n",
       "      <td>348.000000</td>\n",
       "      <td>348.000000</td>\n",
       "      <td>348.000000</td>\n",
       "      <td>348.000000</td>\n",
       "    </tr>\n",
       "    <tr>\n",
       "      <th>mean</th>\n",
       "      <td>2016.0</td>\n",
       "      <td>6.477011</td>\n",
       "      <td>15.514368</td>\n",
       "      <td>62.511494</td>\n",
       "      <td>62.560345</td>\n",
       "      <td>59.760632</td>\n",
       "      <td>62.543103</td>\n",
       "      <td>60.034483</td>\n",
       "    </tr>\n",
       "    <tr>\n",
       "      <th>std</th>\n",
       "      <td>0.0</td>\n",
       "      <td>3.498380</td>\n",
       "      <td>8.772982</td>\n",
       "      <td>11.813019</td>\n",
       "      <td>11.767406</td>\n",
       "      <td>10.527306</td>\n",
       "      <td>11.794146</td>\n",
       "      <td>15.626179</td>\n",
       "    </tr>\n",
       "    <tr>\n",
       "      <th>min</th>\n",
       "      <td>2016.0</td>\n",
       "      <td>1.000000</td>\n",
       "      <td>1.000000</td>\n",
       "      <td>35.000000</td>\n",
       "      <td>35.000000</td>\n",
       "      <td>45.100000</td>\n",
       "      <td>35.000000</td>\n",
       "      <td>28.000000</td>\n",
       "    </tr>\n",
       "    <tr>\n",
       "      <th>25%</th>\n",
       "      <td>2016.0</td>\n",
       "      <td>3.000000</td>\n",
       "      <td>8.000000</td>\n",
       "      <td>54.000000</td>\n",
       "      <td>54.000000</td>\n",
       "      <td>49.975000</td>\n",
       "      <td>54.000000</td>\n",
       "      <td>47.750000</td>\n",
       "    </tr>\n",
       "    <tr>\n",
       "      <th>50%</th>\n",
       "      <td>2016.0</td>\n",
       "      <td>6.000000</td>\n",
       "      <td>15.000000</td>\n",
       "      <td>62.500000</td>\n",
       "      <td>62.500000</td>\n",
       "      <td>58.200000</td>\n",
       "      <td>62.500000</td>\n",
       "      <td>60.000000</td>\n",
       "    </tr>\n",
       "    <tr>\n",
       "      <th>75%</th>\n",
       "      <td>2016.0</td>\n",
       "      <td>10.000000</td>\n",
       "      <td>23.000000</td>\n",
       "      <td>71.000000</td>\n",
       "      <td>71.000000</td>\n",
       "      <td>69.025000</td>\n",
       "      <td>71.000000</td>\n",
       "      <td>71.000000</td>\n",
       "    </tr>\n",
       "    <tr>\n",
       "      <th>max</th>\n",
       "      <td>2016.0</td>\n",
       "      <td>12.000000</td>\n",
       "      <td>31.000000</td>\n",
       "      <td>92.000000</td>\n",
       "      <td>92.000000</td>\n",
       "      <td>77.400000</td>\n",
       "      <td>92.000000</td>\n",
       "      <td>95.000000</td>\n",
       "    </tr>\n",
       "  </tbody>\n",
       "</table>\n",
       "</div>"
      ],
      "text/plain": [
       "         year       month         day      temp_2      temp_1     average  \\\n",
       "count   348.0  348.000000  348.000000  348.000000  348.000000  348.000000   \n",
       "mean   2016.0    6.477011   15.514368   62.511494   62.560345   59.760632   \n",
       "std       0.0    3.498380    8.772982   11.813019   11.767406   10.527306   \n",
       "min    2016.0    1.000000    1.000000   35.000000   35.000000   45.100000   \n",
       "25%    2016.0    3.000000    8.000000   54.000000   54.000000   49.975000   \n",
       "50%    2016.0    6.000000   15.000000   62.500000   62.500000   58.200000   \n",
       "75%    2016.0   10.000000   23.000000   71.000000   71.000000   69.025000   \n",
       "max    2016.0   12.000000   31.000000   92.000000   92.000000   77.400000   \n",
       "\n",
       "           actual      friend  \n",
       "count  348.000000  348.000000  \n",
       "mean    62.543103   60.034483  \n",
       "std     11.794146   15.626179  \n",
       "min     35.000000   28.000000  \n",
       "25%     54.000000   47.750000  \n",
       "50%     62.500000   60.000000  \n",
       "75%     71.000000   71.000000  \n",
       "max     92.000000   95.000000  "
      ]
     },
     "execution_count": 12,
     "metadata": {},
     "output_type": "execute_result"
    }
   ],
   "source": [
    "features.describe()"
   ]
  },
  {
   "cell_type": "code",
   "execution_count": 13,
   "metadata": {},
   "outputs": [],
   "source": [
    "# 时间格式转换\n",
    "import datetime\n",
    "years = features['year']\n",
    "months = features['month']\n",
    "days = features['day']\n",
    "dates = [str(int(year)) + '-' + str(int(month)) + '-' + str(int(day)) for year, month, day in zip(years, months, days)]\n",
    "dates = [datetime.datetime.strptime(date, '%Y-%m-%d') for date in dates]"
   ]
  },
  {
   "cell_type": "code",
   "execution_count": 14,
   "metadata": {},
   "outputs": [
    {
     "name": "stderr",
     "output_type": "stream",
     "text": [
      "C:\\Users\\PC\\Anaconda3\\lib\\site-packages\\pandas\\plotting\\_converter.py:129: FutureWarning: Using an implicitly registered datetime converter for a matplotlib plotting method. The converter was registered by pandas on import. Future versions of pandas will require you to explicitly register matplotlib converters.\n",
      "\n",
      "To register the converters:\n",
      "\t>>> from pandas.plotting import register_matplotlib_converters\n",
      "\t>>> register_matplotlib_converters()\n",
      "  warnings.warn(msg, FutureWarning)\n"
     ]
    },
    {
     "data": {
      "image/png": "[encoded data removed]",
      "text/plain": [
       "<Figure size 720x720 with 4 Axes>"
      ]
     },
     "metadata": {
      "needs_background": "light"
     },
     "output_type": "display_data"
    }
   ],
   "source": [
    "import matplotlib.pyplot as plt\n",
    "%matplotlib inline\n",
    "\n",
    "# Set up the plotting layout\n",
    "fig, ((ax1, ax2), (ax3, ax4)) = plt.subplots(nrows=2, ncols=2, figsize = (10,10))\n",
    "fig.autofmt_xdate(rotation = 45)\n",
    "\n",
    "# Actual max temperature measurement\n",
    "ax1.plot(dates, features['actual'])\n",
    "ax1.set_xlabel(''); ax1.set_ylabel('Temperature'); ax1.set_title('Max Temp')\n",
    "\n",
    "# Temperature from 1 day ago\n",
    "ax2.plot(dates, features['temp_1'])\n",
    "ax2.set_xlabel(''); ax2.set_ylabel('Temperature'); ax2.set_title('Previous Max Temp')\n",
    "\n",
    "# Temperature from 2 days ago\n",
    "ax3.plot(dates, features['temp_2'])\n",
    "ax3.set_xlabel('Date'); ax3.set_ylabel('Temperature'); ax3.set_title('Two Days Prior Max Temp')\n",
    "\n",
    "# Friend Estimate\n",
    "ax4.plot(dates, features['friend'])\n",
    "ax4.set_xlabel('Date'); ax4.set_ylabel('Temperature'); ax4.set_title('Friend Estimate')\n",
    "\n",
    "plt.tight_layout(pad=2)"
   ]
  },
  {
   "cell_type": "code",
   "execution_count": 16,
   "metadata": {},
   "outputs": [
    {
     "data": {
      "text/html": [
       "<div>\n",
       "<style scoped>\n",
       "    .dataframe tbody tr th:only-of-type {\n",
       "        vertical-align: middle;\n",
       "    }\n",
       "\n",
       "    .dataframe tbody tr th {\n",
       "        vertical-align: top;\n",
       "    }\n",
       "\n",
       "    .dataframe thead th {\n",
       "        text-align: right;\n",
       "    }\n",
       "</style>\n",
       "<table border=\"1\" class=\"dataframe\">\n",
       "  <thead>\n",
       "    <tr style=\"text-align: right;\">\n",
       "      <th></th>\n",
       "      <th>year</th>\n",
       "      <th>month</th>\n",
       "      <th>day</th>\n",
       "      <th>temp_2</th>\n",
       "      <th>temp_1</th>\n",
       "      <th>average</th>\n",
       "      <th>actual</th>\n",
       "      <th>friend</th>\n",
       "      <th>week_Fri</th>\n",
       "      <th>week_Mon</th>\n",
       "      <th>week_Sat</th>\n",
       "      <th>week_Sun</th>\n",
       "      <th>week_Thurs</th>\n",
       "      <th>week_Tues</th>\n",
       "      <th>week_Wed</th>\n",
       "    </tr>\n",
       "  </thead>\n",
       "  <tbody>\n",
       "    <tr>\n",
       "      <th>0</th>\n",
       "      <td>2016</td>\n",
       "      <td>1</td>\n",
       "      <td>1</td>\n",
       "      <td>45</td>\n",
       "      <td>45</td>\n",
       "      <td>45.6</td>\n",
       "      <td>45</td>\n",
       "      <td>29</td>\n",
       "      <td>1</td>\n",
       "      <td>0</td>\n",
       "      <td>0</td>\n",
       "      <td>0</td>\n",
       "      <td>0</td>\n",
       "      <td>0</td>\n",
       "      <td>0</td>\n",
       "    </tr>\n",
       "    <tr>\n",
       "      <th>1</th>\n",
       "      <td>2016</td>\n",
       "      <td>1</td>\n",
       "      <td>2</td>\n",
       "      <td>44</td>\n",
       "      <td>45</td>\n",
       "      <td>45.7</td>\n",
       "      <td>44</td>\n",
       "      <td>61</td>\n",
       "      <td>0</td>\n",
       "      <td>0</td>\n",
       "      <td>1</td>\n",
       "      <td>0</td>\n",
       "      <td>0</td>\n",
       "      <td>0</td>\n",
       "      <td>0</td>\n",
       "    </tr>\n",
       "    <tr>\n",
       "      <th>2</th>\n",
       "      <td>2016</td>\n",
       "      <td>1</td>\n",
       "      <td>3</td>\n",
       "      <td>45</td>\n",
       "      <td>44</td>\n",
       "      <td>45.8</td>\n",
       "      <td>41</td>\n",
       "      <td>56</td>\n",
       "      <td>0</td>\n",
       "      <td>0</td>\n",
       "      <td>0</td>\n",
       "      <td>1</td>\n",
       "      <td>0</td>\n",
       "      <td>0</td>\n",
       "      <td>0</td>\n",
       "    </tr>\n",
       "    <tr>\n",
       "      <th>3</th>\n",
       "      <td>2016</td>\n",
       "      <td>1</td>\n",
       "      <td>4</td>\n",
       "      <td>44</td>\n",
       "      <td>41</td>\n",
       "      <td>45.9</td>\n",
       "      <td>40</td>\n",
       "      <td>53</td>\n",
       "      <td>0</td>\n",
       "      <td>1</td>\n",
       "      <td>0</td>\n",
       "      <td>0</td>\n",
       "      <td>0</td>\n",
       "      <td>0</td>\n",
       "      <td>0</td>\n",
       "    </tr>\n",
       "    <tr>\n",
       "      <th>4</th>\n",
       "      <td>2016</td>\n",
       "      <td>1</td>\n",
       "      <td>5</td>\n",
       "      <td>41</td>\n",
       "      <td>40</td>\n",
       "      <td>46.0</td>\n",
       "      <td>44</td>\n",
       "      <td>41</td>\n",
       "      <td>0</td>\n",
       "      <td>0</td>\n",
       "      <td>0</td>\n",
       "      <td>0</td>\n",
       "      <td>0</td>\n",
       "      <td>1</td>\n",
       "      <td>0</td>\n",
       "    </tr>\n",
       "  </tbody>\n",
       "</table>\n",
       "</div>"
      ],
      "text/plain": [
       "   year  month  day  temp_2  temp_1  average  actual  friend  week_Fri  \\\n",
       "0  2016      1    1      45      45     45.6      45      29         1   \n",
       "1  2016      1    2      44      45     45.7      44      61         0   \n",
       "2  2016      1    3      45      44     45.8      41      56         0   \n",
       "3  2016      1    4      44      41     45.9      40      53         0   \n",
       "4  2016      1    5      41      40     46.0      44      41         0   \n",
       "\n",
       "   week_Mon  week_Sat  week_Sun  week_Thurs  week_Tues  week_Wed  \n",
       "0         0         0         0           0          0         0  \n",
       "1         0         1         0           0          0         0  \n",
       "2         0         0         1           0          0         0  \n",
       "3         1         0         0           0          0         0  \n",
       "4         0         0         0           0          1         0  "
      ]
     },
     "execution_count": 16,
     "metadata": {},
     "output_type": "execute_result"
    }
   ],
   "source": [
    "# 数据one-hot-encoding处理 将字符创转换为数字\n",
    "features = pd.get_dummies(features)\n",
    "features.head(5)"
   ]
  },
  {
   "cell_type": "code",
   "execution_count": 17,
   "metadata": {},
   "outputs": [],
   "source": [
    "# 标签和数据格式转换 DateFrame格式转换为numpy格式\n",
    "import numpy as np\n",
    "labels = np.array(features['actual'])\n",
    "features= features.drop('actual', axis = 1)\n",
    "feature_list = list(features.columns)\n",
    "features = np.array(features)"
   ]
  },
  {
   "cell_type": "code",
   "execution_count": 18,
   "metadata": {},
   "outputs": [],
   "source": [
    "# 1. 数据集切分\n",
    "from sklearn.model_selection import train_test_split\n",
    "train_features, test_features, train_labels, test_labels = train_test_split(features, labels, test_size = 0.25,\n",
    "                                                                           random_state = 42)\n",
    "# 2.创建随机森林模型操作句柄\n",
    "from sklearn.ensemble import RandomForestRegressor\n",
    "rf = RandomForestRegressor(n_estimators= 1000, random_state=42)"
   ]
  },
  {
   "cell_type": "code",
   "execution_count": 21,
   "metadata": {},
   "outputs": [
    {
     "name": "stdout",
     "output_type": "stream",
     "text": [
      "{'bootstrap': True, 'criterion': 'mse', 'max_depth': None, 'max_features': 'auto', 'max_leaf_nodes': None, 'min_impurity_decrease': 0.0, 'min_impurity_split': None, 'min_samples_leaf': 1, 'min_samples_split': 2, 'min_weight_fraction_leaf': 0.0, 'n_estimators': 1000, 'n_jobs': None, 'oob_score': False, 'random_state': 42, 'verbose': 0, 'warm_start': False}\n"
     ]
    }
   ],
   "source": [
    "# 从打印可以看到criterion默认是mse，即使用回归任务的增益计算公式\n",
    "print(rf.get_params())"
   ]
  },
  {
   "cell_type": "code",
   "execution_count": 24,
   "metadata": {},
   "outputs": [
    {
     "name": "stdout",
     "output_type": "stream",
     "text": [
      "Variable: temp_1               Importance: 0.7\n",
      "Variable: average              Importance: 0.19\n",
      "Variable: day                  Importance: 0.03\n",
      "Variable: temp_2               Importance: 0.02\n",
      "Variable: friend               Importance: 0.02\n",
      "Variable: month                Importance: 0.01\n",
      "Variable: year                 Importance: 0.0\n",
      "Variable: week_Fri             Importance: 0.0\n",
      "Variable: week_Mon             Importance: 0.0\n",
      "Variable: week_Sat             Importance: 0.0\n",
      "Variable: week_Sun             Importance: 0.0\n",
      "Variable: week_Thurs           Importance: 0.0\n",
      "Variable: week_Tues            Importance: 0.0\n",
      "Variable: week_Wed             Importance: 0.0\n"
     ]
    },
    {
     "data": {
      "text/plain": [
       "[None,\n",
       " None,\n",
       " None,\n",
       " None,\n",
       " None,\n",
       " None,\n",
       " None,\n",
       " None,\n",
       " None,\n",
       " None,\n",
       " None,\n",
       " None,\n",
       " None,\n",
       " None]"
      ]
     },
     "execution_count": 24,
     "metadata": {},
     "output_type": "execute_result"
    }
   ],
   "source": [
    "# 3.模型训练\n",
    "rf.fit(train_features, train_labels)\n",
    "\n",
    "#4.模型预测\n",
    "predictions = rf.predict(test_features)\n",
    "\n",
    "#5. 误差均值计算\n",
    "errors = abs(predictions - test_labels)\n",
    "mean_error = round(np.mean(errors), 2)\n",
    "\n",
    "# 6 回归问题准确率计算\n",
    "mape = 100 * (errors / test_labels)\n",
    "accuracy = 100 - np.mean(mape)\n",
    "\n",
    "#7. 森林中决策树的可视化展示和保存\n",
    "from sklearn.tree import export_graphviz\n",
    "import pydot\n",
    "\n",
    "# 对于树dot文件保存可能出现树过大无法生成的情况\n",
    "tree = rf.estimators_[5]     #获取第5棵树\n",
    "export_graphviz(tree, out_file = 'tree.dot', feature_names = feature_list, rounded = True, precision = 1) #将第5棵树转换为dot格式\n",
    "(graph, ) = pydot.graph_from_dot_file('tree.dot')   #显示dot文件\n",
    "graph.write_png('tree.png')                         #保存显示图形\n",
    "\n",
    "#8 查看特征重要程度\n",
    "importances = list(rf.feature_importances_)         #获取特征重要值\n",
    "feature_importances = [(feature, round(importance, 2)) for feature, importance in zip(feature_list, importances)] #重要程度值和特征名绑定\n",
    "feature_importances = sorted(feature_importances, key = lambda x: x[1], reverse = True)   #排序\n",
    "[print('Variable: {:20} Importance: {}'.format(*pair)) for pair in feature_importances]   #打印"
   ]
  },
  {
   "cell_type": "markdown",
   "metadata": {},
   "source": [
    "# 3.提升算法模型\n",
    "```\n",
    "提升算法模型主要学习  GBDT Xgboost AdaBoost lightgbm几个算法模型\n",
    "```\n",
    "\n",
    "## GBDT算法\n",
    "```\n",
    "GBDT 的全称是 Gradient Boosting Decision Tree，梯度提升决策树(回归树 CART)。\n",
    "\n",
    "GBDT属于boosting集成学习范畴，是多个弱学习器串行相加的结果，把前面弱分类器的学习误差为下一个弱学习器的学习源数据，然后创建下新的弱学习器，以此类推，最终创建多个弱学习器，最终这些弱学习器串行相加得到GBDT模型。\n",
    "\n",
    "GBDT流程：\n",
    "1. 使用特征数据+标签训练第一个CART_A(回归树)，此时以降低标签混乱程度为目标 Model = CART_A\n",
    "2. 计算Model的误差E\n",
    "3. 将E作为下一个CART_B模型训练的标签，使用特征数据+新的标签训练下一个CART，此时以降低误差E混乱程度为目标\n",
    "4. 更新模型 Model = CART_A + CART_B\n",
    "5. 重复2-4操作\n",
    "```\n",
    "<img src=\"GBDT_Model.png\" style='zoom:50%' >\n",
    "\n",
    "```\n",
    "GBDT算法：\n",
    "因为GBDT是通过不断降低残差数据混乱程度而提高预测精度，而残差值为连续值，因此GBDT每一个弱学习模型选择为CART回归树模型，所以GBDT主要以解决回归问题为主。\n",
    "GBDT如何解决分类问题，则需要对数据标签进行one-hot-encoding变换，将多分类问题转换为多个二分类问题，相当于转换为多个逻辑回归问题，逻辑回归的预测值是[0-1]范围内的连续值，最终会为一个类别生成一个GBDT模型。在预测时将数据输入每一个GBDT模型，计算出预测数据属于每一个类别的得分值，然后对所有得分支进行归一化处理，进而得到每一个类别的概率值。\n",
    "\n",
    "```\n",
    "#### GBDT解决多分类问题\n",
    "<img src=\"GBDT解决多分类问题.png\" style='zoom:50%' >\n",
    "\n",
    "\n",
    "#### GBDT可视化网站：\n",
    "```\n",
    "http://arogozhnikov.github.io/2016/06/24/gradient_boosting_explained.html\n",
    "http://arogozhnikov.github.io/2016/07/05/gradient_boosting_playground.html\n",
    "```"
   ]
  },
  {
   "cell_type": "markdown",
   "metadata": {},
   "source": [
    "## XGBoost算法\n",
    "```\n",
    "XGBoost是基于GBDT算法实现的改进：\n",
    "加入了更多的剪枝策略和正则项，控制过拟合风险。传统的GBDT用的是CART，Xgboost能支持的分类器更多，不仅仅支持Decision Tree，也可以是线性的。GBDT只用了一阶导，但是xgboost对损失函数做了二阶的泰勒展开，并且还可以自定义损失函数。\n",
    "```\n",
    "<img src=\"https://raw.githubusercontent.com/dmlc/web-data/master/xgboost/model/struct_score.png\" width=\"500\" height=\"500\" />"
   ]
  },
  {
   "cell_type": "markdown",
   "metadata": {},
   "source": [
    "## LightGBM\n",
    "```\n",
    "LightGBM算法是在GBDT XGBoost算法基础上的算法实现优化和叶子节点分裂策略优化的算法。\n",
    "它摒弃了现在大部分GBDT使用的按层生长（level-wise）的决策树生长策略，而使用带有深度限制的按叶子生长（leaf-wise）的策略。level-wise策略不会区分每个叶子节点分裂的增益效果，会将所有叶子节点进行分裂操作，比较低效，LightGBM算法的leaf-wise策略会计算当前所有叶子节点分裂增益值，然后选择增益值较大的叶子节点分裂，其余的叶子节点则不分裂，目的更强。\n",
    "\n",
    "LightGBM算法优点：\n",
    "1.更快的训练效率\n",
    "2.低内存使用\n",
    "3.更高的准确率\n",
    "4.支持并行学习\n",
    "5.可处理大规模数据\n",
    "```\n",
    "<img src=\"https://lightgbm.readthedocs.io/en/latest/_images/level-wise.png\" width=\"400\" height=\"400\" />\n",
    "<img src=\"https://lightgbm.readthedocs.io/en/latest/_images/leaf-wise.png\" width=\"500\" height=\"500\" />"
   ]
  },
  {
   "cell_type": "markdown",
   "metadata": {},
   "source": [
    "## GBDT-XGBoost算法实现Minist数据集分类"
   ]
  },
  {
   "cell_type": "code",
   "execution_count": 2,
   "metadata": {},
   "outputs": [
    {
     "name": "stdout",
     "output_type": "stream",
     "text": [
      "(5000, 784) (5000,) (1000, 784) (1000,)\n"
     ]
    }
   ],
   "source": [
    "# 数据读取 Minist数据集为[0-9]分类数据\n",
    "import gzip\n",
    "import pickle as pkl\n",
    "from sklearn.model_selection import train_test_split\n",
    "\n",
    "def load_data(path):\n",
    "    f = gzip.open(path, 'rb')\n",
    "    try:\n",
    "        #Python3\n",
    "        train_set, valid_set, test_set = pkl.load(f, encoding='latin1')\n",
    "    except:\n",
    "        #Python2\n",
    "        train_set, valid_set, test_set = pkl.load(f)\n",
    "    f.close()\n",
    "    return(train_set,valid_set,test_set)\n",
    "\n",
    "path = 'mnist.pkl.gz' \n",
    "train_set,valid_set,test_set = load_data(path)\n",
    "\n",
    "Xtrain,_,ytrain,_ = train_test_split(train_set[0], train_set[1], test_size=0.9)\n",
    "Xtest,_,ytest,_ = train_test_split(test_set[0], test_set[1], test_size=0.9)\n",
    "print(Xtrain.shape, ytrain.shape, Xtest.shape, ytest.shape)"
   ]
  },
  {
   "cell_type": "markdown",
   "metadata": {},
   "source": [
    "### GBDT算法Minist数据集分类"
   ]
  },
  {
   "cell_type": "code",
   "execution_count": 4,
   "metadata": {},
   "outputs": [
    {
     "name": "stdout",
     "output_type": "stream",
     "text": [
      "The training time = 13.241706848144531\n",
      "Test accuracy = 0.853\n"
     ]
    }
   ],
   "source": [
    "from sklearn.ensemble import GradientBoostingClassifier     #GBDT分类算法模块\n",
    "from sklearn.ensemble import GradientBoostingRegressor      #GBDT回归算法模块\n",
    "import numpy as np\n",
    "import time \n",
    "\n",
    "#Minist数据集为分类任务 固选择GBDT分类器 创建模型操作句柄\n",
    "clf = GradientBoostingClassifier(n_estimators=10, \n",
    "                                 learning_rate=0.1, \n",
    "                                 max_depth=3)\n",
    "\n",
    "start_time = time.time()\n",
    "clf.fit(Xtrain, ytrain)     #模型训练\n",
    "end_time = time.time()\n",
    "print('The training time = {}'.format(end_time - start_time))\n",
    "\n",
    "pred = clf.predict(Xtest)   #模型预测\n",
    "accuracy = np.sum(pred == ytest) / pred.shape[0]\n",
    "print('Test accuracy = {}'.format(accuracy))"
   ]
  },
  {
   "cell_type": "markdown",
   "metadata": {},
   "source": [
    "## XGBoost算法Minist数据集分类"
   ]
  },
  {
   "cell_type": "code",
   "execution_count": 6,
   "metadata": {},
   "outputs": [
    {
     "name": "stdout",
     "output_type": "stream",
     "text": [
      "<xgboost.core.DMatrix object at 0x000001D8CEA145F8>\n",
      "The training time = 10.759183645248413\n",
      "Test accuracy = 0.842\n"
     ]
    }
   ],
   "source": [
    "import xgboost as xgb\n",
    "import numpy as np\n",
    "import time\n",
    "\n",
    "# 需要将numpy数据类型转换为xgb.DMatrix数据类型[数据 + 标签]\n",
    "dtrain = xgb.DMatrix(Xtrain, label=ytrain)\n",
    "dtest = xgb.DMatrix(Xtest, label=ytest)\n",
    "print(dtrain)\n",
    "\n",
    "# specify parameters via map\n",
    "params = {\n",
    "    'booster':'gbtree',     #  tree-based models\n",
    "    'objective': 'multi:softmax', \n",
    "    'num_class':10, \n",
    "    'eta': 0.1,             # Same to learning rate\n",
    "    'gamma':0,              # Similar to min_impurity_decrease in GBDT\n",
    "    'alpha': 0,             # L1 regularization term on weight (analogous to Lasso regression)\n",
    "    'lambda': 2,            # L2 regularization term on weights (analogous to Ridge regression)\n",
    "    'max_depth': 3,         # Same as the max_depth of GBDT\n",
    "    'subsample': 1,         # Same as the subsample of GBDT\n",
    "    'colsample_bytree': 1,  # Similar to max_features in GBM\n",
    "    'min_child_weight': 1,  # minimum sum of instance weight (Hessian) needed in a child\n",
    "    'nthread':1,            # default to maximum number of threads available if not set\n",
    "}\n",
    "num_round = 10\n",
    "\n",
    "# start training\n",
    "start_time = time.time()\n",
    "bst = xgb.train(params, dtrain, num_round)  #输入模型参数 数据：数据+标签 弱分类器个数\n",
    "end_time = time.time()\n",
    "print('The training time = {}'.format(end_time - start_time))\n",
    "\n",
    "# get prediction and evaluate\n",
    "ypred = bst.predict(dtest)                #模型预测\n",
    "accuracy = np.sum(ypred == ytest) / ypred.shape[0]\n",
    "print('Test accuracy = {}'.format(accuracy))"
   ]
  },
  {
   "cell_type": "markdown",
   "metadata": {},
   "source": [
    "## LightGBM算法Minist数据集分类"
   ]
  },
  {
   "cell_type": "code",
   "execution_count": 7,
   "metadata": {},
   "outputs": [
    {
     "name": "stdout",
     "output_type": "stream",
     "text": [
      "The training time = 5.236009120941162\n",
      "Test accuracy = 0.895\n"
     ]
    }
   ],
   "source": [
    "import lightgbm as lgb\n",
    "\n",
    "#numpy数据转换为lgb数据类型\n",
    "train_data = lgb.Dataset(Xtrain, label=ytrain)\n",
    "test_data = lgb.Dataset(Xtest, label=ytest)\n",
    "\n",
    "# specify parameters via map\n",
    "params = {\n",
    "    'num_leaves':31,                # Same to max_leaf_nodes in GBDT, but GBDT's default value is None\n",
    "    'max_depth': -1,                # Same to max_depth of xgboost\n",
    "    'tree_learner': 'serial', \n",
    "    'application':'multiclass',     # Same to objective of xgboost\n",
    "    'num_class':10,                 # Same to num_class of xgboost\n",
    "    'learning_rate': 0.1,           # Same to eta of xgboost\n",
    "    'min_split_gain': 0,            # Same to gamma of xgboost\n",
    "    'lambda_l1': 0,                 # Same to alpha of xgboost\n",
    "    'lambda_l2': 0,                 # Same to lambda of xgboost\n",
    "    'min_data_in_leaf': 20,         # Same to min_samples_leaf of GBDT\n",
    "    'bagging_fraction': 1.0,        # Same to subsample of xgboost\n",
    "    'bagging_freq': 0,\n",
    "    'bagging_seed': 0,\n",
    "    'feature_fraction': 1.0,         # Same to colsample_bytree of xgboost\n",
    "    'feature_fraction_seed': 2,\n",
    "    'min_sum_hessian_in_leaf': 1e-3, # Same to min_child_weight of xgboost\n",
    "    'num_threads': 1\n",
    "}\n",
    "num_round = 10\n",
    "\n",
    "# start training\n",
    "start_time = time.time()\n",
    "bst = lgb.train(params, train_data, num_round) #输入模型参数 数据：数据+标签 弱分类器个数\n",
    "end_time = time.time()\n",
    "print('The training time = {}'.format(end_time - start_time))\n",
    "\n",
    "# get prediction and evaluate\n",
    "ypred_onehot = bst.predict(Xtest)\n",
    "ypred = []\n",
    "for i in range(len(ypred_onehot)):\n",
    "    ypred.append(ypred_onehot[i].argmax())\n",
    "\n",
    "accuracy = np.sum(ypred == ytest) / len(ypred)\n",
    "print('Test accuracy = {}'.format(accuracy))"
   ]
  },
  {
   "cell_type": "code",
   "execution_count": 22,
   "metadata": {},
   "outputs": [
    {
     "name": "stdout",
     "output_type": "stream",
     "text": [
      "The training time = 5.645909786224365\n",
      "Test accuracy = 0.926\n"
     ]
    }
   ],
   "source": [
    "import lightgbm as lgb\n",
    "\n",
    "#numpy数据转换为lgb数据类型\n",
    "train_data = lgb.Dataset(Xtrain, label=ytrain)\n",
    "test_data = lgb.Dataset(Xtest, label=ytest)\n",
    "\n",
    "# specify parameters via map\n",
    "params = {\n",
    "    'num_leaves':31,                # Same to max_leaf_nodes in GBDT, but GBDT's default value is None\n",
    "    'max_depth': -1,                # Same to max_depth of xgboost\n",
    "    'tree_learner': 'serial', \n",
    "    'application':'multiclass',     # Same to objective of xgboost\n",
    "    'num_class':10,                 # Same to num_class of xgboost\n",
    "    'learning_rate': 1,             # Same to eta of xgboost  学习率learning_rate和真实相反\n",
    "    'min_split_gain': 0,            # Same to gamma of xgboost\n",
    "    'lambda_l1': 0,                 # Same to alpha of xgboost\n",
    "    'lambda_l2': 0,                 # Same to lambda of xgboost\n",
    "    'min_data_in_leaf': 20,         # Same to min_samples_leaf of GBDT\n",
    "    'bagging_fraction': 1.0,        # Same to subsample of xgboost\n",
    "    'bagging_freq': 0,\n",
    "    'bagging_seed': 0,\n",
    "    'feature_fraction': 1.0,         # Same to colsample_bytree of xgboost\n",
    "    'feature_fraction_seed': 2,\n",
    "    'min_sum_hessian_in_leaf': 1e-3, # Same to min_child_weight of xgboost\n",
    "    'num_threads': 1\n",
    "}\n",
    "num_round = 10\n",
    "\n",
    "# start training\n",
    "start_time = time.time()\n",
    "bst = lgb.train(params, train_data, num_round) #输入模型参数 数据：数据+标签 弱分类器个数\n",
    "end_time = time.time()\n",
    "print('The training time = {}'.format(end_time - start_time))\n",
    "\n",
    "# get prediction and evaluate\n",
    "ypred_onehot = bst.predict(Xtest)\n",
    "ypred = []\n",
    "for i in range(len(ypred_onehot)):\n",
    "    ypred.append(ypred_onehot[i].argmax())\n",
    "\n",
    "accuracy = np.sum(ypred == ytest) / len(ypred)\n",
    "print('Test accuracy = {}'.format(accuracy))"
   ]
  },
  {
   "cell_type": "markdown",
   "metadata": {},
   "source": [
    "### 结果对比：\n",
    "```\n",
    "从结果可以看出：GBDT 和 XGBoost差不多，而lightgbm在训练时间和准确率方面有着明显的优势\n",
    "\n",
    "```"
   ]
  },
  {
   "cell_type": "markdown",
   "metadata": {},
   "source": [
    "## AdaBoost算法\n",
    "```\n",
    "1. 初始化数据权重，使数据呈均匀分布，对训练样本学习得到第一个弱分类器。\n",
    "2. 数据权重更新：分错的样本数据权重增加，分对的样本数据权重减少，学习得到第二个分类器。样本权重更新目的是让下一个分类器重点关注被错误分类的数据\n",
    "3. 然后将这两个分类器相叠加更新模型\n",
    "4. 将最新模型分错的样本数据权重增加，分对的样本数据减少，学习第三个弱分类器。2-4操作循环，知道达到指定精度为止\n",
    "5. 最终生成提升的强分类器\n",
    "\n",
    "```\n",
    "<img src=\"AdaBoost2.png\" style='zoom:50%' >\n",
    "<img src=\"AdaBoost.jpg\" style='zoom:100%' >\n",
    "\n",
    "```\n",
    "从操作流程来看，AdaBoost算法和GBDT算法有很大不同，但是其核心思想却有着相似之处。AdaBoost算法 和 GBDT算法其实都是通过对训练数据集的调整来训练弱分类器。二者不同的是，GBDT是不断的使用回归误差更新样本数据的标签，而AdaBoost是不断的使用分类错误更细样本数据的特征数据。GBDT生成的是回归树，AdaBoost生成的是分类树。\n",
    "```"
   ]
  },
  {
   "cell_type": "markdown",
   "metadata": {},
   "source": [
    "## AdaBoost算法实现Minist数据集分类"
   ]
  },
  {
   "cell_type": "code",
   "execution_count": 13,
   "metadata": {},
   "outputs": [
    {
     "name": "stdout",
     "output_type": "stream",
     "text": [
      "The training time = 1.867004156112671\n",
      "Test accuracy = 0.72\n"
     ]
    }
   ],
   "source": [
    "from sklearn.ensemble import AdaBoostClassifier     \n",
    "from sklearn.ensemble import AdaBoostRegressor  \n",
    "from sklearn.tree     import DecisionTreeClassifier\n",
    "\n",
    "#Minist数据集为分类任务 固选择GBDT分类器 创建模型操作句柄\n",
    "clf = AdaBoostClassifier(DecisionTreeClassifier(max_depth=3),\n",
    "                         algorithm='SAMME',\n",
    "                         learning_rate=0.1,\n",
    "                         n_estimators=10\n",
    "                        )\n",
    "\n",
    "start_time = time.time()\n",
    "clf.fit(Xtrain, ytrain)     #模型训练\n",
    "end_time = time.time()\n",
    "print('The training time = {}'.format(end_time - start_time))\n",
    "\n",
    "pred = clf.predict(Xtest)   #模型预测\n",
    "accuracy = np.sum(pred == ytest) / pred.shape[0]\n",
    "print('Test accuracy = {}'.format(accuracy))"
   ]
  },
  {
   "cell_type": "code",
   "execution_count": 17,
   "metadata": {},
   "outputs": [
    {
     "name": "stdout",
     "output_type": "stream",
     "text": [
      "The training time = 19.422957181930542\n",
      "Test accuracy = 0.753\n"
     ]
    }
   ],
   "source": [
    "from sklearn.ensemble import AdaBoostClassifier     \n",
    "from sklearn.ensemble import AdaBoostRegressor  \n",
    "from sklearn.tree     import DecisionTreeClassifier\n",
    "\n",
    "#Minist数据集为分类任务 固选择GBDT分类器 创建模型操作句柄\n",
    "clf = AdaBoostClassifier(DecisionTreeClassifier(max_depth=3),\n",
    "                         algorithm='SAMME',\n",
    "                         learning_rate=0.01,\n",
    "                         n_estimators=100\n",
    "                        )\n",
    "\n",
    "start_time = time.time()\n",
    "clf.fit(Xtrain, ytrain)     #模型训练\n",
    "end_time = time.time()\n",
    "print('The training time = {}'.format(end_time - start_time))\n",
    "\n",
    "pred = clf.predict(Xtest)   #模型预测\n",
    "accuracy = np.sum(pred == ytest) / pred.shape[0]\n",
    "print('Test accuracy = {}'.format(accuracy))"
   ]
  },
  {
   "cell_type": "code",
   "execution_count": null,
   "metadata": {},
   "outputs": [],
   "source": []
  }
 ],
 "metadata": {
  "kernelspec": {
   "display_name": "Python 3",
   "language": "python",
   "name": "python3"
  },
  "language_info": {
   "codemirror_mode": {
    "name": "ipython",
    "version": 3
   },
   "file_extension": ".py",
   "mimetype": "text/x-python",
   "name": "python",
   "nbconvert_exporter": "python",
   "pygments_lexer": "ipython3",
   "version": "3.7.3"
  }
 },
 "nbformat": 4,
 "nbformat_minor": 2
}
