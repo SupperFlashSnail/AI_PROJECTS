{
 "cells": [
  {
   "cell_type": "markdown",
   "metadata": {},
   "source": [
    "## 1. KNN算法概述\n",
    "\n",
    "K近邻算法是有监督学习算法，算法核心思想是使用预测样本和当前已有样本集进行特征近距离匹配，即选择K个特征距离最小的已有样本，然后统计K个已选样本的种类，最后将预测样本归类于出现次数最大的样本。对于回归问题处理方式相同，也是通过计算特征距离求测试样本归属，最后选取K个已有样本，并求其回归值得均值。\n",
    "\n",
    "### KNN 算法图\n",
    "<img src='./KNN.jpg' style='zoom:60%;float:left'>\n"
   ]
  },
  {
   "cell_type": "markdown",
   "metadata": {},
   "source": [
    "### KNN算法距离计算\n",
    "<img src=\"Distance.png\" style=\"width:400px;height:80px;float:left\">  "
   ]
  },
  {
   "cell_type": "markdown",
   "metadata": {},
   "source": [
    "如果将样本特征看成一个向量，则样本之间的距离计算通过相关向量相关程度计算。\n",
    "<img src='./vector_correlation.jpg' style='zoom:80%;float:left'>"
   ]
  },
  {
   "cell_type": "markdown",
   "metadata": {},
   "source": [
    "## 2.KNN算法实例-根据房间数特征的房屋价格预测\n",
    "<img src='./room_price_predict.png' style='float:left'>"
   ]
  },
  {
   "cell_type": "code",
   "execution_count": 3,
   "metadata": {},
   "outputs": [
    {
     "data": {
      "text/plain": [
       "88.0"
      ]
     },
     "execution_count": 3,
     "metadata": {},
     "output_type": "execute_result"
    }
   ],
   "source": [
    "# 单变量的距离计算\n",
    "import pandas as pd\n",
    "import numpy as np\n",
    "features = ['accommodates','bedrooms','bathrooms','beds','price','minimum_nights','maximum_nights','number_of_reviews']\n",
    "dc_listings = pd.read_csv('listings.csv') #读取原有数据\n",
    "dc_listings = dc_listings[features]     #从原有数据中取出指定特征\n",
    "our_acc_value = 3   #输入预测房屋个数值\n",
    "dc_listings['distance'] = np.abs(dc_listings.accommodates - our_acc_value) #计算距离\n",
    "dc_listings.distance.value_counts().sort_index()  #将索引重新排序\n",
    "dc_listings = dc_listings.sample(frac=1,random_state=0) #重新洗牌\n",
    "dc_listings = dc_listings.sort_values('distance')    #按照distance选项重新排序\n",
    "dc_listings['price'] = dc_listings.price.str.replace(\"\\$|,\",'').astype(float) #将价格变为float类型\n",
    "mean_price = dc_listings.price.iloc[:5].mean()      #取前五个数据并求出其均值作为预测值\n",
    "mean_price"
   ]
  },
  {
   "cell_type": "code",
   "execution_count": 6,
   "metadata": {},
   "outputs": [],
   "source": [
    "import pandas as pd\n",
    "from sklearn.preprocessing import StandardScaler\n",
    "features_labels = ['accommodates','bedrooms','bathrooms','beds','price','minimum_nights','maximum_nights','number_of_reviews']\n",
    "features=['accommodates','bedrooms','bathrooms','beds','minimum_nights','maximum_nights','number_of_reviews']\n",
    "\n",
    "dc_listings = pd.read_csv('listings.csv')\n",
    "\n",
    "dc_listings = dc_listings[features_labels]\n",
    "\n",
    "dc_listings['price'] = dc_listings.price.str.replace(\"\\$|,\",'').astype(float) #字符串转换\n",
    "\n",
    "dc_listings = dc_listings.dropna()    #去掉空值\n",
    "\n",
    "dc_listings[features] = StandardScaler().fit_transform(dc_listings[features]) #数据标准化处理\n",
    "\n",
    "normalized_listings = dc_listings   #将指定特征数据取出\n",
    "\n",
    "norm_train_df = normalized_listings.copy().iloc[0:2792]\n",
    "norm_test_df = normalized_listings.copy().iloc[2792:]"
   ]
  },
  {
   "cell_type": "code",
   "execution_count": 7,
   "metadata": {},
   "outputs": [
    {
     "name": "stdout",
     "output_type": "stream",
     "text": [
      "0.7894063922577537\n"
     ]
    }
   ],
   "source": [
    "#多变量的距离计算\n",
    "from scipy.spatial import distance\n",
    "\n",
    "def predict_price_multivariate(new_listing_value,feature_columns):\n",
    "    temp_df = norm_train_df                       #已经存在的样本数据\n",
    "    temp_df['distance'] = distance.cdist(temp_df[feature_columns],[new_listing_value[feature_columns]])    #进行多变量的距离计算\n",
    "    temp_df = temp_df.sort_values('distance')\n",
    "    knn_5 = temp_df.price.iloc[:5]\n",
    "    predicted_price = knn_5.mean()\n",
    "    return(predicted_price)\n",
    "\n",
    "cols = ['accommodates', 'bathrooms']  #指定计算变量\n",
    "norm_test_df['predicted_price'] = norm_test_df[cols].apply(predict_price_multivariate,feature_columns=cols,axis=1)  #对于测试数据进行预测操作\n",
    "norm_test_df['squared_error'] = (norm_test_df['predicted_price'] - norm_test_df['price'])**(2)  \n",
    "mse = norm_test_df['squared_error'].mean()     \n",
    "rmse = mse ** (1/2)   #计算价格误差的均方差\n",
    "print(rmse)"
   ]
  },
  {
   "cell_type": "code",
   "execution_count": 8,
   "metadata": {},
   "outputs": [
    {
     "data": {
      "text/html": [
       "<div>\n",
       "<style scoped>\n",
       "    .dataframe tbody tr th:only-of-type {\n",
       "        vertical-align: middle;\n",
       "    }\n",
       "\n",
       "    .dataframe tbody tr th {\n",
       "        vertical-align: top;\n",
       "    }\n",
       "\n",
       "    .dataframe thead th {\n",
       "        text-align: right;\n",
       "    }\n",
       "</style>\n",
       "<table border=\"1\" class=\"dataframe\">\n",
       "  <thead>\n",
       "    <tr style=\"text-align: right;\">\n",
       "      <th></th>\n",
       "      <th>accommodates</th>\n",
       "      <th>bedrooms</th>\n",
       "      <th>bathrooms</th>\n",
       "      <th>beds</th>\n",
       "      <th>price</th>\n",
       "      <th>minimum_nights</th>\n",
       "      <th>maximum_nights</th>\n",
       "      <th>number_of_reviews</th>\n",
       "      <th>predicted_price</th>\n",
       "      <th>squared_error</th>\n",
       "    </tr>\n",
       "  </thead>\n",
       "  <tbody>\n",
       "    <tr>\n",
       "      <th>2839</th>\n",
       "      <td>-1.095648</td>\n",
       "      <td>-0.249501</td>\n",
       "      <td>-0.439211</td>\n",
       "      <td>-0.546933</td>\n",
       "      <td>-0.900476</td>\n",
       "      <td>-0.341421</td>\n",
       "      <td>-0.016575</td>\n",
       "      <td>-0.482571</td>\n",
       "      <td>-0.529651</td>\n",
       "      <td>0.137511</td>\n",
       "    </tr>\n",
       "    <tr>\n",
       "      <th>2840</th>\n",
       "      <td>-0.596625</td>\n",
       "      <td>-0.249501</td>\n",
       "      <td>-0.439211</td>\n",
       "      <td>-0.546933</td>\n",
       "      <td>-0.645988</td>\n",
       "      <td>-0.341421</td>\n",
       "      <td>-0.016606</td>\n",
       "      <td>-0.106278</td>\n",
       "      <td>-0.036673</td>\n",
       "      <td>0.371266</td>\n",
       "    </tr>\n",
       "    <tr>\n",
       "      <th>2841</th>\n",
       "      <td>0.401420</td>\n",
       "      <td>-0.249501</td>\n",
       "      <td>-0.439211</td>\n",
       "      <td>-0.546933</td>\n",
       "      <td>0.001137</td>\n",
       "      <td>-0.341421</td>\n",
       "      <td>-0.016575</td>\n",
       "      <td>-0.345737</td>\n",
       "      <td>-0.305702</td>\n",
       "      <td>0.094150</td>\n",
       "    </tr>\n",
       "    <tr>\n",
       "      <th>2842</th>\n",
       "      <td>0.900443</td>\n",
       "      <td>-0.249501</td>\n",
       "      <td>1.265170</td>\n",
       "      <td>-0.546933</td>\n",
       "      <td>-0.093387</td>\n",
       "      <td>1.316824</td>\n",
       "      <td>-0.016606</td>\n",
       "      <td>-0.482571</td>\n",
       "      <td>1.083072</td>\n",
       "      <td>1.384057</td>\n",
       "    </tr>\n",
       "    <tr>\n",
       "      <th>2843</th>\n",
       "      <td>-0.596625</td>\n",
       "      <td>-1.439006</td>\n",
       "      <td>-0.439211</td>\n",
       "      <td>-0.546933</td>\n",
       "      <td>-0.427856</td>\n",
       "      <td>-0.341421</td>\n",
       "      <td>-0.016575</td>\n",
       "      <td>-0.208903</td>\n",
       "      <td>-0.036673</td>\n",
       "      <td>0.153025</td>\n",
       "    </tr>\n",
       "  </tbody>\n",
       "</table>\n",
       "</div>"
      ],
      "text/plain": [
       "      accommodates  bedrooms  bathrooms      beds     price  minimum_nights  \\\n",
       "2839     -1.095648 -0.249501  -0.439211 -0.546933 -0.900476       -0.341421   \n",
       "2840     -0.596625 -0.249501  -0.439211 -0.546933 -0.645988       -0.341421   \n",
       "2841      0.401420 -0.249501  -0.439211 -0.546933  0.001137       -0.341421   \n",
       "2842      0.900443 -0.249501   1.265170 -0.546933 -0.093387        1.316824   \n",
       "2843     -0.596625 -1.439006  -0.439211 -0.546933 -0.427856       -0.341421   \n",
       "\n",
       "      maximum_nights  number_of_reviews  predicted_price  squared_error  \n",
       "2839       -0.016575          -0.482571        -0.529651       0.137511  \n",
       "2840       -0.016606          -0.106278        -0.036673       0.371266  \n",
       "2841       -0.016575          -0.345737        -0.305702       0.094150  \n",
       "2842       -0.016606          -0.482571         1.083072       1.384057  \n",
       "2843       -0.016575          -0.208903        -0.036673       0.153025  "
      ]
     },
     "execution_count": 8,
     "metadata": {},
     "output_type": "execute_result"
    }
   ],
   "source": [
    "norm_test_df.head(5)"
   ]
  },
  {
   "cell_type": "code",
   "execution_count": null,
   "metadata": {},
   "outputs": [],
   "source": []
  }
 ],
 "metadata": {
  "kernelspec": {
   "display_name": "Python 3",
   "language": "python",
   "name": "python3"
  },
  "language_info": {
   "codemirror_mode": {
    "name": "ipython",
    "version": 3
   },
   "file_extension": ".py",
   "mimetype": "text/x-python",
   "name": "python",
   "nbconvert_exporter": "python",
   "pygments_lexer": "ipython3",
   "version": "3.7.3"
  }
 },
 "nbformat": 4,
 "nbformat_minor": 2
}
