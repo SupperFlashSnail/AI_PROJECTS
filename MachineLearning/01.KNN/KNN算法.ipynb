{
 "cells": [
  {
   "cell_type": "markdown",
   "metadata": {},
   "source": [
    "## 1. KNN算法概述\n",
    "\n",
    "K近邻算法是有监督学习算法，算法核心思想是使用预测样本和当前已有样本集进行特征近距离匹配，即选择K个特征距离最小的已有样本，然后统计K个已选样本的种类，最后将预测样本归类于出现次数最大的样本。对于回归问题处理方式相同，也是通过计算特征距离求测试样本归属，最后选取K个已有样本，并求其回归值得均值。\n",
    "\n",
    "### KNN 算法图\n",
    "<img src='./KNN.jpg' style='zoom:60%;float:left'>\n"
   ]
  },
  {
   "cell_type": "markdown",
   "metadata": {},
   "source": [
    "### KNN算法距离计算\n",
    "<img src=\"Distance.png\" style=\"width:400px;height:80px;float:left\">  "
   ]
  },
  {
   "cell_type": "markdown",
   "metadata": {},
   "source": [
    "如果将样本特征看成一个向量，则样本之间的距离计算通过相关向量相关程度计算。\n",
    "<img src='./vector_correlation.jpg' style='zoom:80%;float:left'>"
   ]
  },
  {
   "cell_type": "markdown",
   "metadata": {},
   "source": [
    "## 2.KNN算法实例-根据房间数特征的房屋价格预测\n",
    "<img src='./room_price_predict.png' style='float:left'>"
   ]
  },
  {
   "cell_type": "markdown",
   "metadata": {},
   "source": [
    "## 3单个变量的KNN算法"
   ]
  },
  {
   "cell_type": "code",
   "execution_count": 3,
   "metadata": {},
   "outputs": [
    {
     "data": {
      "text/plain": [
       "88.0"
      ]
     },
     "execution_count": 3,
     "metadata": {},
     "output_type": "execute_result"
    }
   ],
   "source": [
    "# 单变量的距离计算\n",
    "import pandas as pd\n",
    "import numpy as np\n",
    "features = ['accommodates','bedrooms','bathrooms','beds','price','minimum_nights','maximum_nights','number_of_reviews']\n",
    "dc_listings = pd.read_csv('listings.csv') #读取原有数据\n",
    "dc_listings = dc_listings[features]     #从原有数据中取出指定特征\n",
    "our_acc_value = 3   #输入预测房屋个数值\n",
    "dc_listings['distance'] = np.abs(dc_listings.accommodates - our_acc_value) #计算距离\n",
    "dc_listings.distance.value_counts().sort_index()  #将索引重新排序\n",
    "dc_listings = dc_listings.sample(frac=1,random_state=0) #重新洗牌\n",
    "dc_listings = dc_listings.sort_values('distance')    #按照distance选项重新排序\n",
    "dc_listings['price'] = dc_listings.price.str.replace(\"\\$|,\",'').astype(float) #将价格变为float类型\n",
    "mean_price = dc_listings.price.iloc[:5].mean()      #取前五个数据并求出其均值作为预测值\n",
    "mean_price"
   ]
  },
  {
   "cell_type": "markdown",
   "metadata": {},
   "source": [
    "## 4. 多变量的KNN算法\n",
    "多变量的KNN算法通过scipy.spatial的距离计算distance求得"
   ]
  },
  {
   "cell_type": "code",
   "execution_count": 9,
   "metadata": {},
   "outputs": [],
   "source": [
    "import pandas as pd\n",
    "from sklearn.preprocessing import StandardScaler\n",
    "features_labels = ['accommodates','bedrooms','bathrooms','beds','price','minimum_nights','maximum_nights','number_of_reviews']\n",
    "features=['accommodates','bedrooms','bathrooms','beds','minimum_nights','maximum_nights','number_of_reviews']\n",
    "\n",
    "dc_listings = pd.read_csv('listings.csv')\n",
    "\n",
    "dc_listings = dc_listings[features_labels]\n",
    "\n",
    "dc_listings['price'] = dc_listings.price.str.replace(\"\\$|,\",'').astype(float) #字符串转换\n",
    "\n",
    "dc_listings = dc_listings.dropna()    #去掉空值\n",
    "\n",
    "dc_listings[features] = StandardScaler().fit_transform(dc_listings[features]) #数据标准化处理\n",
    "\n",
    "normalized_listings = dc_listings   #将指定特征数据取出\n",
    "\n",
    "norm_train_df = normalized_listings.copy().iloc[0:2792]\n",
    "norm_test_df = normalized_listings.copy().iloc[2792:]"
   ]
  },
  {
   "cell_type": "code",
   "execution_count": 10,
   "metadata": {},
   "outputs": [
    {
     "name": "stdout",
     "output_type": "stream",
     "text": [
      "108.56809421175991\n"
     ]
    }
   ],
   "source": [
    "from scipy.spatial import distance\n",
    "\n",
    "def predict_price_multivariate(new_listing_value,feature_columns):\n",
    "    temp_df = norm_train_df                       #已经存在的样本数据\n",
    "    temp_df['distance'] = distance.cdist(temp_df[feature_columns],[new_listing_value[feature_columns]])    #进行多变量的距离计算\n",
    "    temp_df = temp_df.sort_values('distance')\n",
    "    knn_5 = temp_df.price.iloc[:5]\n",
    "    predicted_price = knn_5.mean()\n",
    "    return(predicted_price)\n",
    "\n",
    "cols = ['accommodates', 'bathrooms']  #指定计算变量\n",
    "norm_test_df['predicted_price'] = norm_test_df[cols].apply(predict_price_multivariate,feature_columns=cols,axis=1)  #对于测试数据进行预测操作\n",
    "norm_test_df['squared_error'] = (norm_test_df['predicted_price'] - norm_test_df['price'])**(2)  \n",
    "mse = norm_test_df['squared_error'].mean()     \n",
    "rmse = mse ** (1/2)   #计算价格误差的均方差\n",
    "print(rmse)"
   ]
  },
  {
   "cell_type": "code",
   "execution_count": 11,
   "metadata": {},
   "outputs": [
    {
     "data": {
      "text/html": [
       "<div>\n",
       "<style scoped>\n",
       "    .dataframe tbody tr th:only-of-type {\n",
       "        vertical-align: middle;\n",
       "    }\n",
       "\n",
       "    .dataframe tbody tr th {\n",
       "        vertical-align: top;\n",
       "    }\n",
       "\n",
       "    .dataframe thead th {\n",
       "        text-align: right;\n",
       "    }\n",
       "</style>\n",
       "<table border=\"1\" class=\"dataframe\">\n",
       "  <thead>\n",
       "    <tr style=\"text-align: right;\">\n",
       "      <th></th>\n",
       "      <th>accommodates</th>\n",
       "      <th>bedrooms</th>\n",
       "      <th>bathrooms</th>\n",
       "      <th>beds</th>\n",
       "      <th>price</th>\n",
       "      <th>minimum_nights</th>\n",
       "      <th>maximum_nights</th>\n",
       "      <th>number_of_reviews</th>\n",
       "      <th>predicted_price</th>\n",
       "      <th>squared_error</th>\n",
       "    </tr>\n",
       "  </thead>\n",
       "  <tbody>\n",
       "    <tr>\n",
       "      <th>2839</th>\n",
       "      <td>-1.095648</td>\n",
       "      <td>-0.249501</td>\n",
       "      <td>-0.439211</td>\n",
       "      <td>-0.546933</td>\n",
       "      <td>25.0</td>\n",
       "      <td>-0.341421</td>\n",
       "      <td>-0.016575</td>\n",
       "      <td>-0.482571</td>\n",
       "      <td>76.0</td>\n",
       "      <td>2601.00</td>\n",
       "    </tr>\n",
       "    <tr>\n",
       "      <th>2840</th>\n",
       "      <td>-0.596625</td>\n",
       "      <td>-0.249501</td>\n",
       "      <td>-0.439211</td>\n",
       "      <td>-0.546933</td>\n",
       "      <td>60.0</td>\n",
       "      <td>-0.341421</td>\n",
       "      <td>-0.016606</td>\n",
       "      <td>-0.106278</td>\n",
       "      <td>143.8</td>\n",
       "      <td>7022.44</td>\n",
       "    </tr>\n",
       "    <tr>\n",
       "      <th>2841</th>\n",
       "      <td>0.401420</td>\n",
       "      <td>-0.249501</td>\n",
       "      <td>-0.439211</td>\n",
       "      <td>-0.546933</td>\n",
       "      <td>149.0</td>\n",
       "      <td>-0.341421</td>\n",
       "      <td>-0.016575</td>\n",
       "      <td>-0.345737</td>\n",
       "      <td>106.8</td>\n",
       "      <td>1780.84</td>\n",
       "    </tr>\n",
       "    <tr>\n",
       "      <th>2842</th>\n",
       "      <td>0.900443</td>\n",
       "      <td>-0.249501</td>\n",
       "      <td>1.265170</td>\n",
       "      <td>-0.546933</td>\n",
       "      <td>136.0</td>\n",
       "      <td>1.316824</td>\n",
       "      <td>-0.016606</td>\n",
       "      <td>-0.482571</td>\n",
       "      <td>297.8</td>\n",
       "      <td>26179.24</td>\n",
       "    </tr>\n",
       "    <tr>\n",
       "      <th>2843</th>\n",
       "      <td>-0.596625</td>\n",
       "      <td>-1.439006</td>\n",
       "      <td>-0.439211</td>\n",
       "      <td>-0.546933</td>\n",
       "      <td>90.0</td>\n",
       "      <td>-0.341421</td>\n",
       "      <td>-0.016575</td>\n",
       "      <td>-0.208903</td>\n",
       "      <td>143.8</td>\n",
       "      <td>2894.44</td>\n",
       "    </tr>\n",
       "  </tbody>\n",
       "</table>\n",
       "</div>"
      ],
      "text/plain": [
       "      accommodates  bedrooms  bathrooms      beds  price  minimum_nights  \\\n",
       "2839     -1.095648 -0.249501  -0.439211 -0.546933   25.0       -0.341421   \n",
       "2840     -0.596625 -0.249501  -0.439211 -0.546933   60.0       -0.341421   \n",
       "2841      0.401420 -0.249501  -0.439211 -0.546933  149.0       -0.341421   \n",
       "2842      0.900443 -0.249501   1.265170 -0.546933  136.0        1.316824   \n",
       "2843     -0.596625 -1.439006  -0.439211 -0.546933   90.0       -0.341421   \n",
       "\n",
       "      maximum_nights  number_of_reviews  predicted_price  squared_error  \n",
       "2839       -0.016575          -0.482571             76.0        2601.00  \n",
       "2840       -0.016606          -0.106278            143.8        7022.44  \n",
       "2841       -0.016575          -0.345737            106.8        1780.84  \n",
       "2842       -0.016606          -0.482571            297.8       26179.24  \n",
       "2843       -0.016575          -0.208903            143.8        2894.44  "
      ]
     },
     "execution_count": 11,
     "metadata": {},
     "output_type": "execute_result"
    }
   ],
   "source": [
    "norm_test_df.head(5)"
   ]
  },
  {
   "cell_type": "markdown",
   "metadata": {},
   "source": [
    "## 5.使用sklearn工具包实现多变量的KNN算法"
   ]
  },
  {
   "cell_type": "code",
   "execution_count": 12,
   "metadata": {},
   "outputs": [
    {
     "name": "stdout",
     "output_type": "stream",
     "text": [
      "115.8952229715371\n"
     ]
    }
   ],
   "source": [
    "from sklearn.neighbors import KNeighborsRegressor\n",
    "cols = ['accommodates','bedrooms']\n",
    "knn = KNeighborsRegressor()\n",
    "knn.fit(norm_train_df[cols], norm_train_df['price'])\n",
    "two_features_predictions = knn.predict(norm_test_df[cols])\n",
    "\n",
    "from sklearn.metrics import mean_squared_error\n",
    "two_features_mse = mean_squared_error(norm_test_df['price'], two_features_predictions)\n",
    "two_features_rmse = two_features_mse ** (1/2)\n",
    "print(two_features_rmse)"
   ]
  },
  {
   "cell_type": "markdown",
   "metadata": {},
   "source": [
    "## 6. 实例总结\n",
    "```\n",
    "对于KNN算法的优缺点：\n",
    "优点：计算简单\n",
    "缺点：\n",
    "精度不高：对于数据的特征而言，实际上每一个特征的贡献价值各不相同，但是在KNN计算时，每一个特征的贡献价值都是按照同等对待\n",
    "计算量较大：每预测一格样本都需要对所有已经存在的样本进行一次遍历求距离的计算\n",
    "```\n",
    "\n",
    "### PS: 对于KNN算法无法区分特征权重的问题通过线性回归问题解决"
   ]
  },
  {
   "cell_type": "code",
   "execution_count": null,
   "metadata": {},
   "outputs": [],
   "source": []
  }
 ],
 "metadata": {
  "kernelspec": {
   "display_name": "Python 3",
   "language": "python",
   "name": "python3"
  },
  "language_info": {
   "codemirror_mode": {
    "name": "ipython",
    "version": 3
   },
   "file_extension": ".py",
   "mimetype": "text/x-python",
   "name": "python",
   "nbconvert_exporter": "python",
   "pygments_lexer": "ipython3",
   "version": "3.7.3"
  }
 },
 "nbformat": 4,
 "nbformat_minor": 2
}
