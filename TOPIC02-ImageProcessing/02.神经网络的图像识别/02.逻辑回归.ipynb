{
 "cells": [
  {
   "cell_type": "markdown",
   "metadata": {},
   "source": [
    "##  使用Tensorflow和Pytorch框架实现基于神经网络的逻辑回归"
   ]
  },
  {
   "cell_type": "markdown",
   "metadata": {},
   "source": [
    "### 01.获取Minist数据集"
   ]
  },
  {
   "cell_type": "code",
   "execution_count": 2,
   "metadata": {},
   "outputs": [
    {
     "name": "stdout",
     "output_type": "stream",
     "text": [
      "Extracting data/train-images-idx3-ubyte.gz\n",
      "Extracting data/train-labels-idx1-ubyte.gz\n",
      "Extracting data/t10k-images-idx3-ubyte.gz\n",
      "Extracting data/t10k-labels-idx1-ubyte.gz\n"
     ]
    }
   ],
   "source": [
    "from tensorflow.examples.tutorials.mnist import input_data\n",
    "import tensorflow as tf\n",
    "import warnings\n",
    "warnings.filterwarnings('ignore')\n",
    "\n",
    "mnist = input_data.read_data_sets('data/', one_hot=True)"
   ]
  },
  {
   "cell_type": "markdown",
   "metadata": {},
   "source": [
    "### 02.查看minist数据集内容\n",
    "```\n",
    "minist数据集是0-9的图像数字\n",
    "```"
   ]
  },
  {
   "cell_type": "code",
   "execution_count": 6,
   "metadata": {},
   "outputs": [
    {
     "name": "stdout",
     "output_type": "stream",
     "text": [
      " 数据类型 is <class 'numpy.ndarray'>\n",
      " 标签类型 <class 'numpy.ndarray'>\n",
      " 训练集的shape (55000, 784)\n",
      " 训练集的标签的shape (55000, 10)\n",
      " 测试集的shape' is (10000, 784)\n",
      " 测试集的标签的shape (10000, 10)\n",
      "17068th 训练数据 标签是 6\n"
     ]
    },
    {
     "data": {
      "image/png": "[encoded data removed]",
      "text/plain": [
       "<Figure size 288x288 with 1 Axes>"
      ]
     },
     "metadata": {
      "needs_background": "light"
     },
     "output_type": "display_data"
    },
    {
     "name": "stdout",
     "output_type": "stream",
     "text": [
      "24022th 训练数据 标签是 8\n"
     ]
    },
    {
     "data": {
      "image/png": "[encoded data removed]",
      "text/plain": [
       "<Figure size 288x288 with 1 Axes>"
      ]
     },
     "metadata": {
      "needs_background": "light"
     },
     "output_type": "display_data"
    },
    {
     "name": "stdout",
     "output_type": "stream",
     "text": [
      "52384th 训练数据 标签是 0\n"
     ]
    },
    {
     "data": {
      "image/png": "[encoded data removed]",
      "text/plain": [
       "<Figure size 288x288 with 1 Axes>"
      ]
     },
     "metadata": {
      "needs_background": "light"
     },
     "output_type": "display_data"
    },
    {
     "name": "stdout",
     "output_type": "stream",
     "text": [
      "30847th 训练数据 标签是 8\n"
     ]
    },
    {
     "data": {
      "image/png": "[encoded data removed]",
      "text/plain": [
       "<Figure size 288x288 with 1 Axes>"
      ]
     },
     "metadata": {
      "needs_background": "light"
     },
     "output_type": "display_data"
    },
    {
     "name": "stdout",
     "output_type": "stream",
     "text": [
      "15086th 训练数据 标签是 9\n"
     ]
    },
    {
     "data": {
      "image/png": "[encoded data removed]",
      "text/plain": [
       "<Figure size 288x288 with 1 Axes>"
      ]
     },
     "metadata": {
      "needs_background": "light"
     },
     "output_type": "display_data"
    }
   ],
   "source": [
    "import numpy as np\n",
    "import matplotlib.pyplot as plt \n",
    "trainimg   = mnist.train.images\n",
    "trainlabel = mnist.train.labels\n",
    "testimg    = mnist.test.images\n",
    "testlabel  = mnist.test.labels\n",
    "\n",
    "print (\" 数据类型 is %s\"    % (type(trainimg)))\n",
    "print (\" 标签类型 %s\"  % (type(trainlabel)))\n",
    "print (\" 训练集的shape %s\"   % (trainimg.shape,))\n",
    "print (\" 训练集的标签的shape %s\" % (trainlabel.shape,))\n",
    "print (\" 测试集的shape' is %s\"    % (testimg.shape,))\n",
    "print (\" 测试集的标签的shape %s\"  % (testlabel.shape,))\n",
    "\n",
    "nsample = 5\n",
    "randidx = np.random.randint(trainimg.shape[0], size=nsample)\n",
    "\n",
    "for i in randidx:\n",
    "    curr_img   = np.reshape(trainimg[i, :], (28, 28)) # 28 by 28 matrix \n",
    "    curr_label = np.argmax(trainlabel[i, :] ) # Label\n",
    "    plt.matshow(curr_img, cmap=plt.get_cmap('gray'))\n",
    "    print (\"\" + str(i) + \"th 训练数据 \" \n",
    "           + \"标签是 \" + str(curr_label))\n",
    "    plt.show()"
   ]
  },
  {
   "cell_type": "markdown",
   "metadata": {},
   "source": [
    "##  基于Tensorflow的逻辑回归实现"
   ]
  },
  {
   "cell_type": "code",
   "execution_count": 7,
   "metadata": {},
   "outputs": [],
   "source": [
    "# 根据minist数据集\n",
    "numClasses = 10\n",
    "inputSize = 784  \n",
    "trainingIterations = 50000\n",
    "batchSize = 64"
   ]
  },
  {
   "cell_type": "code",
   "execution_count": 8,
   "metadata": {},
   "outputs": [],
   "source": [
    "# 规定输入特征数据和标签的占位符\n",
    "X = tf.placeholder(tf.float32,shape=[None,inputSize])\n",
    "y = tf.placeholder(tf.float32,shape=[None,numClasses])"
   ]
  },
  {
   "cell_type": "code",
   "execution_count": 9,
   "metadata": {},
   "outputs": [],
   "source": [
    "# 权重参数初始化\n",
    "W1 = tf.Variable(tf.random_normal([inputSize,numClasses],stddev=0.1))\n",
    "B1 = tf.Variable(tf.constant(0.1),[numClasses])"
   ]
  },
  {
   "cell_type": "code",
   "execution_count": 10,
   "metadata": {},
   "outputs": [],
   "source": [
    "# 构造模型\n",
    "y_pred = tf.nn.softmax(tf.matmul(X,W1)+B1)\n",
    "\n",
    "loss = tf.reduce_mean(tf.square(y-y_pred))\n",
    "\n",
    "opt = tf.train.GradientDescentOptimizer(learning_rate=0.05).minimize(loss)\n",
    "\n",
    "correct_prediction = tf.equal(tf.argmax(y_pred,1), tf.argmax(y,1))\n",
    "\n",
    "accuracy = tf.reduce_mean(tf.cast(correct_prediction, \"float\"))  "
   ]
  },
  {
   "cell_type": "code",
   "execution_count": 11,
   "metadata": {},
   "outputs": [
    {
     "name": "stdout",
     "output_type": "stream",
     "text": [
      "step 0, training accuracy 0.140625\n",
      "step 1000, training accuracy 0.515625\n",
      "step 2000, training accuracy 0.75\n",
      "step 3000, training accuracy 0.734375\n",
      "step 4000, training accuracy 0.71875\n",
      "step 5000, training accuracy 0.84375\n",
      "step 6000, training accuracy 0.875\n",
      "step 7000, training accuracy 0.84375\n",
      "step 8000, training accuracy 0.859375\n",
      "step 9000, training accuracy 0.875\n",
      "step 10000, training accuracy 0.828125\n",
      "step 11000, training accuracy 0.90625\n",
      "step 12000, training accuracy 0.84375\n",
      "step 13000, training accuracy 0.8125\n",
      "step 14000, training accuracy 0.890625\n",
      "step 15000, training accuracy 0.875\n",
      "step 16000, training accuracy 0.890625\n",
      "step 17000, training accuracy 0.875\n",
      "step 18000, training accuracy 0.90625\n",
      "step 19000, training accuracy 0.890625\n",
      "step 20000, training accuracy 0.859375\n",
      "step 21000, training accuracy 0.859375\n",
      "step 22000, training accuracy 0.953125\n",
      "step 23000, training accuracy 0.875\n",
      "step 24000, training accuracy 0.859375\n",
      "step 25000, training accuracy 0.828125\n",
      "step 26000, training accuracy 0.90625\n",
      "step 27000, training accuracy 0.96875\n",
      "step 28000, training accuracy 0.890625\n",
      "step 29000, training accuracy 0.90625\n",
      "step 30000, training accuracy 0.796875\n",
      "step 31000, training accuracy 0.921875\n",
      "step 32000, training accuracy 0.890625\n",
      "step 33000, training accuracy 0.859375\n",
      "step 34000, training accuracy 0.875\n",
      "step 35000, training accuracy 0.859375\n",
      "step 36000, training accuracy 0.890625\n",
      "step 37000, training accuracy 0.96875\n",
      "step 38000, training accuracy 0.859375\n",
      "step 39000, training accuracy 0.90625\n",
      "step 40000, training accuracy 0.921875\n",
      "step 41000, training accuracy 0.859375\n",
      "step 42000, training accuracy 0.953125\n",
      "step 43000, training accuracy 0.890625\n",
      "step 44000, training accuracy 0.875\n",
      "step 45000, training accuracy 0.859375\n",
      "step 46000, training accuracy 0.90625\n",
      "step 47000, training accuracy 0.9375\n",
      "step 48000, training accuracy 0.90625\n",
      "step 49000, training accuracy 0.9375\n"
     ]
    }
   ],
   "source": [
    "# 初始化图 并开始计算\n",
    "sess = tf.Session()\n",
    "init = tf.global_variables_initializer()\n",
    "sess.run(init)\n",
    "\n",
    "\n",
    "for i in range(trainingIterations):\n",
    "    batch = mnist.train.next_batch(batchSize)\n",
    "    batchInput = batch[0]\n",
    "    batchLabels = batch[1]\n",
    "    _, trainingLoss = sess.run([opt, loss], feed_dict={X: batchInput, y: batchLabels})\n",
    "    if i%1000 == 0:\n",
    "        train_accuracy = accuracy.eval(session=sess, feed_dict={X: batchInput, y: batchLabels})\n",
    "        print (\"step %d, training accuracy %g\"%(i, train_accuracy))"
   ]
  },
  {
   "cell_type": "code",
   "execution_count": 12,
   "metadata": {},
   "outputs": [
    {
     "name": "stdout",
     "output_type": "stream",
     "text": [
      "test accuracy 0.90625\n"
     ]
    }
   ],
   "source": [
    "batch = mnist.test.next_batch(batchSize)\n",
    "testAccuracy = sess.run(accuracy, feed_dict={X: batch[0], y: batch[1]})\n",
    "print (\"test accuracy %g\"%(testAccuracy))"
   ]
  },
  {
   "cell_type": "markdown",
   "metadata": {},
   "source": [
    "## 基于Pytorch的逻辑回归实现"
   ]
  },
  {
   "cell_type": "code",
   "execution_count": 31,
   "metadata": {},
   "outputs": [],
   "source": [
    "from torch  import nn\n",
    "import torch.nn.functional as F\n",
    "\n",
    "class MyLogicRegression(nn.Module):\n",
    "    def __init__(self,in_channel,out_channel):\n",
    "        super(MyLogicRegression,self).__init__()\n",
    "        self.out = nn.Linear(in_channel,out_channel)\n",
    "    \n",
    "    def forward(self,x):\n",
    "        x = self.out(x)\n",
    "        return x"
   ]
  },
  {
   "cell_type": "code",
   "execution_count": 32,
   "metadata": {},
   "outputs": [],
   "source": [
    "from torch import optim\n",
    "\n",
    "def GetModelAndOpt():\n",
    "    in_channel = 784\n",
    "    out_channel = 10\n",
    "    model = MyLogicRegression(in_channel,out_channel)\n",
    "    opt  = optim.SGD(model.parameters(),lr=0.001)\n",
    "    loss_func = F.cross_entropy\n",
    "    \n",
    "    return model,opt,loss_func\n",
    "\n",
    "def loss_batch(model,x_data,y_data,loss_func,opt=None):\n",
    "    if model:\n",
    "        loss = loss_func(model(x_data),y_data)\n",
    "    else:\n",
    "        print('model is not exit')\n",
    "        return\n",
    "    \n",
    "    if opt is not None:\n",
    "        opt.zero_grad()\n",
    "        loss.backward()\n",
    "        opt.step()\n",
    "    \n",
    "    return loss.item(),len(x_data)"
   ]
  },
  {
   "cell_type": "markdown",
   "metadata": {},
   "source": [
    "#### 有针对pytorch框架的minist数据集"
   ]
  },
  {
   "cell_type": "code",
   "execution_count": 33,
   "metadata": {},
   "outputs": [],
   "source": [
    "from pathlib import Path\n",
    "import requests\n",
    "\n",
    "DATA_PATH = Path(\"data\")\n",
    "PATH = DATA_PATH / \"mnist\"\n",
    "PATH.mkdir(parents=True, exist_ok=True)\n",
    "\n",
    "URL = \"http://deeplearning.net/data/mnist/\"\n",
    "FILENAME = \"mnist.pkl.gz\"\n",
    "\n",
    "if not (PATH / FILENAME).exists():\n",
    "        content = requests.get(URL + FILENAME).content\n",
    "        (PATH / FILENAME).open(\"wb\").write(content)\n",
    "\n",
    "import pickle\n",
    "import gzip\n",
    "\n",
    "with gzip.open((PATH / FILENAME).as_posix(), \"rb\") as f:\n",
    "        ((x_train, y_train), (x_valid, y_valid), _) = pickle.load(f, encoding=\"latin-1\")\n",
    "\n",
    "\n",
    "import torch \n",
    "from torch.utils.data import TensorDataset\n",
    "from torch.utils.data import DataLoader\n",
    "\n",
    "def DataGet(x_train,y_train,x_valid,y_valid,batch):\n",
    "    \n",
    "    x_train,y_train,x_valid,y_valid = map(torch.tensor,(x_train,y_train,x_valid,y_valid))\n",
    "    train_dataset    = TensorDataset(x_train,y_train)\n",
    "    train_dataloader = DataLoader(dataset=train_dataset,\n",
    "                                  batch_size=batch,\n",
    "                                  shuffle=True)\n",
    "    valid_dataset    = TensorDataset(x_valid,y_valid)\n",
    "    valid_dataloader = DataLoader(dataset=valid_dataset,\n",
    "                                  batch_size=batch,\n",
    "                                  shuffle=True)\n",
    "    return train_dataloader,valid_dataloader"
   ]
  },
  {
   "cell_type": "code",
   "execution_count": 36,
   "metadata": {},
   "outputs": [],
   "source": [
    "val_loss_list = []\n",
    "def model_fit(steps,model,opt,loss_func,train_dataloader,valid_dataloader):\n",
    "    for step in range(steps):\n",
    "        model.train()\n",
    "        for x,y in train_dataloader:\n",
    "            loss_batch(model,x,y,loss_func,opt)\n",
    "        \n",
    "        model.eval()\n",
    "        #更改参数属性，使参数不反向传播、更新 如果此时还进行反向传播会出现element 0 have no grad的错误\n",
    "        with torch.no_grad():\n",
    "            losses,nums = zip(*[loss_batch(model,x,y,loss_func) for x,y in valid_dataloader])\n",
    "        val_loss = np.sum(np.multiply(losses,nums)/np.sum(nums))\n",
    "        print('当前step='+str(step),' 验证集损失值：'+str(val_loss))\n",
    "        val_loss_list.append(val_loss)\n",
    "        \n",
    "    torch.save(model.state_dict(),'model_regression.pkl')"
   ]
  },
  {
   "cell_type": "code",
   "execution_count": 38,
   "metadata": {},
   "outputs": [
    {
     "name": "stdout",
     "output_type": "stream",
     "text": [
      "当前step=0  验证集损失值：1.6802726808547974\n",
      "当前step=1  验证集损失值：1.315446221923828\n",
      "当前step=2  验证集损失值：1.0981821907043456\n",
      "当前step=3  验证集损失值：0.9584792671203612\n",
      "当前step=4  验证集损失值：0.8616607891082764\n",
      "当前step=5  验证集损失值：0.7910881132125854\n",
      "当前step=6  验证集损失值：0.73715759973526\n",
      "当前step=7  验证集损失值：0.6946582849502564\n",
      "当前step=8  验证集损失值：0.6601695730686188\n",
      "当前step=9  验证集损失值：0.6315794465065001\n",
      "当前step=10  验证集损失值：0.6074514603614807\n",
      "当前step=11  验证集损失值：0.586837046146393\n",
      "当前step=12  验证集损失值：0.5689450234413147\n",
      "当前step=13  验证集损失值：0.553302708864212\n",
      "当前step=14  验证集损失值：0.5394783428192138\n",
      "当前step=15  验证集损失值：0.5271549904108048\n",
      "当前step=16  验证集损失值：0.51615916762352\n",
      "当前step=17  验证集损失值：0.5061036298751831\n",
      "当前step=18  验证集损失值：0.49703844089508054\n",
      "当前step=19  验证集损失值：0.4887600053787231\n",
      "当前step=20  验证集损失值：0.48119559183120725\n",
      "当前step=21  验证集损失值：0.4741793706893921\n",
      "当前step=22  验证集损失值：0.46763407163619997\n",
      "当前step=23  验证集损失值：0.4616592659950256\n",
      "当前step=24  验证集损失值：0.4560848792076111\n"
     ]
    }
   ],
   "source": [
    "batch = 64\n",
    "train_dataloader,valid_dataloader = DataGet(x_train,y_train,x_valid,y_valid,batch)\n",
    "model,opt,loss_func = GetModelAndOpt()\n",
    "steps = 25\n",
    "model_fit(steps,model,opt,loss_func,train_dataloader,valid_dataloader)"
   ]
  },
  {
   "cell_type": "markdown",
   "metadata": {},
   "source": [
    "#### pytorch-model load"
   ]
  },
  {
   "cell_type": "code",
   "execution_count": 42,
   "metadata": {},
   "outputs": [],
   "source": [
    "def Softmax(list):\n",
    "    sum_exp = np.sum([np.exp(i) for i in  list])\n",
    "    result = [np.exp(i)/sum_exp for i  in list]\n",
    "    return result\n",
    "\n",
    "import seaborn as sns\n",
    "import matplotlib.pyplot as  plt\n",
    "\n",
    "def model_load():\n",
    "    #创建一个新的model\n",
    "    model,opt,loss_func = GetModelAndOpt()\n",
    "    print(model)\n",
    "    plt.imshow(x_valid[0].reshape((28,28)),cmap='gray')\n",
    "    \n",
    "    #查看器预测结果\n",
    "    predict = model(torch.Tensor(x_valid[0]))\n",
    "    print(predict)\n",
    "    #输出类型为 tensor 且附带可求导属性，因此需要使用predict.detach().numpy()将predict转换成numpy形式\n",
    "    predict_result = Softmax(np.array(predict.detach().numpy()))\n",
    "    fig,axes = plt.subplots()\n",
    "    axes.bar(x=[i for i in range(10)],height=predict_result,width = 0.5,tick_label=[i for i in range(10)])\n",
    "    axes.set_title('UnLoad Model')\n",
    "    #load已经训练完成的模型\n",
    "    model.load_state_dict(torch.load('model_regression.pkl'))\n",
    "    \n",
    "    predict = model(torch.Tensor(x_valid[0]))\n",
    "    print(predict)\n",
    "    predict_result = Softmax(np.array(predict.detach().numpy()))\n",
    "    fig,axes = plt.subplots()\n",
    "    axes.bar(x=[i for i in range(10)],height=predict_result,width = 0.5,tick_label=[i for i in range(10)])\n",
    "    axes.set_title('Model Loaded')  "
   ]
  },
  {
   "cell_type": "code",
   "execution_count": 43,
   "metadata": {},
   "outputs": [
    {
     "name": "stdout",
     "output_type": "stream",
     "text": [
      "MyLogicRegression(\n",
      "  (out): Linear(in_features=784, out_features=10, bias=True)\n",
      ")\n",
      "tensor([ 0.3351, -0.0224, -0.4250, -0.1420,  0.0231,  0.1121,  0.0223,  0.1793,\n",
      "         0.0472, -0.0113], grad_fn=<AddBackward0>)\n",
      "tensor([-1.3837,  1.5162,  1.8355,  3.5693, -2.1461,  1.1739, -0.8153, -2.5895,\n",
      "         1.2193, -2.7144], grad_fn=<AddBackward0>)\n"
     ]
    },
    {
     "data": {
      "image/png": "[encoded data removed]",
      "text/plain": [
       "<Figure size 432x288 with 1 Axes>"
      ]
     },
     "metadata": {
      "needs_background": "light"
     },
     "output_type": "display_data"
    },
    {
     "data": {
      "image/png": "[encoded data removed]",
      "text/plain": [
       "<Figure size 432x288 with 1 Axes>"
      ]
     },
     "metadata": {
      "needs_background": "light"
     },
     "output_type": "display_data"
    },
    {
     "data": {
      "image/png": "[encoded data removed]",
      "text/plain": [
       "<Figure size 432x288 with 1 Axes>"
      ]
     },
     "metadata": {
      "needs_background": "light"
     },
     "output_type": "display_data"
    }
   ],
   "source": [
    "model_load()"
   ]
  },
  {
   "cell_type": "code",
   "execution_count": null,
   "metadata": {},
   "outputs": [],
   "source": []
  }
 ],
 "metadata": {
  "kernelspec": {
   "display_name": "Python 3",
   "language": "python",
   "name": "python3"
  },
  "language_info": {
   "codemirror_mode": {
    "name": "ipython",
    "version": 3
   },
   "file_extension": ".py",
   "mimetype": "text/x-python",
   "name": "python",
   "nbconvert_exporter": "python",
   "pygments_lexer": "ipython3",
   "version": "3.7.3"
  }
 },
 "nbformat": 4,
 "nbformat_minor": 2
}
