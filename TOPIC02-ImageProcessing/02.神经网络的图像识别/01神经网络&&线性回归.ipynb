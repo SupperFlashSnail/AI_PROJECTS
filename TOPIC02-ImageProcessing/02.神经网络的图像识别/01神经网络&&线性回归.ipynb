{
 "cells": [
  {
   "cell_type": "markdown",
   "metadata": {},
   "source": [
    "## 神经网络\n",
    "```\n",
    "神经网络组成：\n",
    "1. 输入层\n",
    "2. 隐层\n",
    "3. 激活函数\n",
    "4. 池化层\n",
    "5. 全连接层\n",
    "6. 输出层\n",
    "```\n",
    "<img src='神经网络.png' style='zoom:100%;float:left'>\n",
    "\n",
    "```\n",
    "1. 输入层：源数据输入\n",
    "\n",
    "2. 隐层：通过线性权重的乘积获取隐层的特征图\n",
    "\n",
    "3. 激活函数：权重参数的乘积是线性特征提取，即进行一次线性分类，此时分类会有很多分类错误的数据点，激活函数是通过sigmod 、relu等过滤函数将一些特征不明显或者特征值为负数的特征值过滤掉，即是一次选择过程，该选择过程为非线性选择。\n",
    "\n",
    "4. 池化层：为了防止过拟合而对隐层特征图进行下采样操作，一般按照kernelsize=(2,2)进行赤化操作\n",
    "\n",
    "5. 全连接层： 将通过多次提取的语义特征图数据 连接到一起用于分类或者回归操作\n",
    "\n",
    "6. 输出层：将全连接层的值代入计算损失值\n",
    "```"
   ]
  },
  {
   "cell_type": "markdown",
   "metadata": {},
   "source": [
    "## 创建数据"
   ]
  },
  {
   "cell_type": "code",
   "execution_count": 3,
   "metadata": {},
   "outputs": [
    {
     "data": {
      "text/plain": [
       "<matplotlib.collections.PathCollection at 0x1ea7dc339e8>"
      ]
     },
     "execution_count": 3,
     "metadata": {},
     "output_type": "execute_result"
    },
    {
     "data": {
      "image/png": "[encoded data removed]",
      "text/plain": [
       "<Figure size 432x288 with 1 Axes>"
      ]
     },
     "metadata": {
      "needs_background": "light"
     },
     "output_type": "display_data"
    }
   ],
   "source": [
    "import numpy as np\n",
    "import warnings\n",
    "warnings.filterwarnings('ignore')\n",
    "## 随机生成1000个生成点\n",
    "num_points = 1000\n",
    "vectors_set = []\n",
    "for i in range(num_points):\n",
    "    x1 = np.random.normal(0.0, 0.55)\n",
    "    y1 = x1 * 0.1 + 0.3 + np.random.normal(0.0, 0.03)\n",
    "    vectors_set.append([x1, y1])\n",
    "\n",
    "# 生成一些样本\n",
    "x_data = [v[0] for v in vectors_set]\n",
    "y_data = [v[1] for v in vectors_set]\n",
    "plt.scatter(x_data,y_data,c='r')"
   ]
  },
  {
   "cell_type": "markdown",
   "metadata": {},
   "source": [
    "## Tensorflow的线性回归实现"
   ]
  },
  {
   "cell_type": "code",
   "execution_count": 4,
   "metadata": {},
   "outputs": [],
   "source": [
    "import tensorflow as tf\n",
    "import matplotlib.pyplot as plt"
   ]
  },
  {
   "cell_type": "markdown",
   "metadata": {},
   "source": [
    "### 1.Tensorflow 线性回归模型定义"
   ]
  },
  {
   "cell_type": "code",
   "execution_count": 5,
   "metadata": {},
   "outputs": [],
   "source": [
    "#生成1维的W矩阵，取值[-1,1]之间的随机数\n",
    "W = tf.Variable(tf.random_uniform([1],-1,1),name='W')\n",
    "#生成1维偏置项矩阵b\n",
    "b = tf.Variable(tf.zeros([1]),name='b')\n",
    "#线性模型\n",
    "y = W*x_data + b"
   ]
  },
  {
   "cell_type": "markdown",
   "metadata": {},
   "source": [
    "### 2.Tensorflow损失函数定义"
   ]
  },
  {
   "cell_type": "code",
   "execution_count": 6,
   "metadata": {},
   "outputs": [],
   "source": [
    "# 以预估值y和实际值y_data之间的均方误差作为损失\n",
    "loss = tf.reduce_mean(tf.square(y - y_data), name='loss')"
   ]
  },
  {
   "cell_type": "markdown",
   "metadata": {},
   "source": [
    "### 3.Tensorflow损失函数操作方式定义\n",
    "```\n",
    "在tensorflow中梯度操作句柄optimizer是学习model的管理模块，一方面用于激活model的前向传播和反向传播操作，并限制反向传播过程中梯度下降的操作方式以及学习率\n",
    "```"
   ]
  },
  {
   "cell_type": "code",
   "execution_count": 7,
   "metadata": {},
   "outputs": [],
   "source": [
    "optimizer = tf.train.GradientDescentOptimizer(0.5)"
   ]
  },
  {
   "cell_type": "markdown",
   "metadata": {},
   "source": [
    "### 4.Tensorflow 确定损失函数求解目标"
   ]
  },
  {
   "cell_type": "code",
   "execution_count": 8,
   "metadata": {},
   "outputs": [],
   "source": [
    "train = optimizer.minimize(loss, name='train')"
   ]
  },
  {
   "cell_type": "markdown",
   "metadata": {},
   "source": [
    "### 5.创建训练图并开始训练"
   ]
  },
  {
   "cell_type": "code",
   "execution_count": 12,
   "metadata": {},
   "outputs": [
    {
     "name": "stdout",
     "output_type": "stream",
     "text": [
      "W = [-0.93601084] b = [0.] lossess.run(b)s = 0.3970285\n",
      "W = [-0.63549685] b = [0.28142208] loss = 0.16072825\n",
      "W = [-0.41848332] b = [0.28702798] loss = 0.08037014\n",
      "W = [-0.26545542] b = [0.29107624] loss = 0.040411416\n",
      "W = [-0.15754543] b = [0.2939309] loss = 0.020541606\n",
      "W = [-0.08145103] b = [0.29594392] loss = 0.010661179\n",
      "W = [-0.02779189] b = [0.2973634] loss = 0.0057480545\n",
      "W = [0.01004668] b = [0.2983644] loss = 0.0033049618\n",
      "W = [0.03672914] b = [0.29907024] loss = 0.0020901144\n",
      "W = [0.05554468] b = [0.299568] loss = 0.0014860213\n",
      "W = [0.06881276] b = [0.29991898] loss = 0.0011856308\n",
      "W = [0.07816894] b = [0.3001665] loss = 0.0010362592\n",
      "W = [0.0847666] b = [0.30034104] loss = 0.0009619828\n",
      "W = [0.08941904] b = [0.3004641] loss = 0.0009250484\n",
      "W = [0.09269978] b = [0.3005509] loss = 0.0009066825\n",
      "W = [0.09501325] b = [0.3006121] loss = 0.00089754973\n",
      "W = [0.09664463] b = [0.30065525] loss = 0.00089300855\n",
      "W = [0.09779502] b = [0.30068567] loss = 0.00089075026\n",
      "W = [0.09860623] b = [0.30070713] loss = 0.00088962744\n",
      "W = [0.09917827] b = [0.30072227] loss = 0.00088906894\n",
      "W = [0.09958165] b = [0.30073294] loss = 0.0008887914\n"
     ]
    }
   ],
   "source": [
    "sess = tf.Session()\n",
    "init = tf.global_variables_initializer()\n",
    "sess.run(init)\n",
    "\n",
    "print(\"W =\", sess.run(W), \"b =\",sess.run(b) , \"lossess.run(b)s =\", sess.run(loss))\n",
    "for step in range(20):\n",
    "    sess.run(train)\n",
    "    print (\"W =\", sess.run(W), \"b =\", sess.run(b), \"loss =\", sess.run(loss))"
   ]
  },
  {
   "cell_type": "code",
   "execution_count": 13,
   "metadata": {},
   "outputs": [
    {
     "data": {
      "image/png": "[encoded data removed]",
      "text/plain": [
       "<Figure size 432x288 with 1 Axes>"
      ]
     },
     "metadata": {
      "needs_background": "light"
     },
     "output_type": "display_data"
    }
   ],
   "source": [
    "plt.scatter(x_data,y_data,c='r')\n",
    "plt.plot(x_data,sess.run(W)*x_data+sess.run(b))\n",
    "plt.show()"
   ]
  },
  {
   "cell_type": "markdown",
   "metadata": {},
   "source": [
    "## Pytorch的线性回归实现"
   ]
  },
  {
   "cell_type": "code",
   "execution_count": 56,
   "metadata": {},
   "outputs": [],
   "source": [
    "from torch import nn\n",
    "import torch.nn.functional as F\n",
    "\n",
    "class MyLinearRegression(nn.Module):\n",
    "    def __init__(self,in_channel,out_channel):\n",
    "        super(MyLinearRegression,self).__init__()\n",
    "        self.out = nn.Linear(in_channel,out_channel)\n",
    "    \n",
    "    def forward(self,x):\n",
    "        x = self.out(x)\n",
    "        return x"
   ]
  },
  {
   "cell_type": "code",
   "execution_count": 57,
   "metadata": {},
   "outputs": [],
   "source": [
    "# 数据转换为torch类型\n",
    "import torch\n",
    "x_train,y_train = map(torch.tensor,(x_data,y_data))"
   ]
  },
  {
   "cell_type": "code",
   "execution_count": 58,
   "metadata": {},
   "outputs": [],
   "source": [
    "from torch import optim\n",
    "\n",
    "def GetModelAndOpt():\n",
    "    in_channel = 1\n",
    "    out_channel = 1\n",
    "    model = MyLinearRegression(in_channel,out_channel)\n",
    "    opt  = optim.SGD(model.parameters(),lr=0.001)\n",
    "    loss_func = torch.nn.MSELoss()\n",
    "    \n",
    "    return model,opt,loss_func\n",
    "\n",
    "def loss_batch(model,x_data,y_data,loss_func,opt=None):\n",
    "    if model:\n",
    "        loss = loss_func(model(x_data),y_data)\n",
    "    else:\n",
    "        print('model is not exit')\n",
    "        return\n",
    "    \n",
    "    if opt is not None:\n",
    "        opt.zero_grad()\n",
    "        loss.backward()\n",
    "        opt.step()\n",
    "    \n",
    "    return loss.item(),len(x_data)\n",
    "    "
   ]
  },
  {
   "cell_type": "code",
   "execution_count": 66,
   "metadata": {},
   "outputs": [],
   "source": [
    "train_loss_val = []\n",
    "def model_fit(steps,model,opt,loss_func,train_dataloader):\n",
    "    for step in range(steps):\n",
    "        model.train()\n",
    "        losses,nums = zip(*[loss_batch(model,x,y,loss_func,opt) for x,y in train_dataloader])\n",
    "        train_loss = np.sum(np.multiply(losses,nums)/np.sum(nums))\n",
    "        #print('当前step='+str(step),' 验证集损失值：'+str(train_loss))\n",
    "        train_loss_val.append(train_loss)\n",
    "    torch.save(model.state_dict(),'model.pkl') \n",
    "    "
   ]
  },
  {
   "cell_type": "code",
   "execution_count": 67,
   "metadata": {},
   "outputs": [],
   "source": [
    "from torch.utils.data import TensorDataset\n",
    "from torch.utils.data import DataLoader\n",
    "def DataGet(x_train,y_train,batch):\n",
    "    \n",
    "    x_train,y_train = map(torch.tensor,(x_train,y_train))\n",
    "    train_dataset    = TensorDataset(x_train,y_train)\n",
    "    train_dataloader = DataLoader(dataset=train_dataset,\n",
    "                                  batch_size=batch,\n",
    "                                  shuffle=True)\n",
    "    return train_dataloader"
   ]
  },
  {
   "cell_type": "code",
   "execution_count": 68,
   "metadata": {},
   "outputs": [],
   "source": [
    "batch = 1\n",
    "train_dataloader= DataGet(x_train,y_train,batch)\n",
    "model,opt,loss_func = GetModelAndOpt()\n",
    "steps = 100\n",
    "model_fit(steps,model,opt,loss_func,train_dataloader)"
   ]
  },
  {
   "cell_type": "code",
   "execution_count": 69,
   "metadata": {},
   "outputs": [
    {
     "data": {
      "image/png": "[encoded data removed]",
      "text/plain": [
       "<Figure size 432x288 with 1 Axes>"
      ]
     },
     "metadata": {
      "needs_background": "light"
     },
     "output_type": "display_data"
    }
   ],
   "source": [
    "plt.scatter(x_data,y_data,c='r')\n",
    "y_pred = [model(torch.tensor([x]))  for x in x_data]\n",
    "y_pred = [x.detach().numpy() for x in y_pred]\n",
    "y_pred = np.array(y_pred).reshape(len(y_pred)).tolist()\n",
    "plt.plot(x_data,y_pred)\n",
    "plt.show()"
   ]
  },
  {
   "cell_type": "code",
   "execution_count": 71,
   "metadata": {},
   "outputs": [
    {
     "data": {
      "text/plain": [
       "[<matplotlib.lines.Line2D at 0x1ea0551ec50>]"
      ]
     },
     "execution_count": 71,
     "metadata": {},
     "output_type": "execute_result"
    },
    {
     "data": {
      "image/png": "[encoded data removed]",
      "text/plain": [
       "<Figure size 432x288 with 1 Axes>"
      ]
     },
     "metadata": {
      "needs_background": "light"
     },
     "output_type": "display_data"
    }
   ],
   "source": [
    "plt.plot(train_loss_val)"
   ]
  },
  {
   "cell_type": "code",
   "execution_count": null,
   "metadata": {},
   "outputs": [],
   "source": []
  }
 ],
 "metadata": {
  "kernelspec": {
   "display_name": "Python 3",
   "language": "python",
   "name": "python3"
  },
  "language_info": {
   "codemirror_mode": {
    "name": "ipython",
    "version": 3
   },
   "file_extension": ".py",
   "mimetype": "text/x-python",
   "name": "python",
   "nbconvert_exporter": "python",
   "pygments_lexer": "ipython3",
   "version": "3.7.3"
  }
 },
 "nbformat": 4,
 "nbformat_minor": 2
}
